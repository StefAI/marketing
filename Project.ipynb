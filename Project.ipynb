{
 "cells": [
  {
   "cell_type": "markdown",
   "id": "056a7eb7",
   "metadata": {},
   "source": [
    "# Проект: Маркетинг\n",
    "\n",
    "### Описание\n",
    "Интернет-магазин собирает историю покупателей, проводит рассылки предложений и планирует будущие продажи. Для оптимизации процессов надо выделить пользователей, которые готовы совершить покупку в ближайшее время\n",
    "\n",
    "### Цель\n",
    "Предсказать вероятность покупки в течение 90 дней\n",
    "\n",
    "### Задачи\n",
    "- изучить данные\n",
    "- провести исследовательский анализ данных\n",
    "- подготовить данные для моделей\n",
    "- обучить разные модели (RandomForest, CatBoost) для предсказания целевого признака\n",
    "- проверить качество моделей по метрике roc_auc\n",
    "- оценить важность признаков\n",
    "\n",
    "### План работ:\n",
    "- открыть файл с данными и посмотреть общую информацию о данных\n",
    "- провести предварительную обработку данных (работа с пропусками, выявление дубликатов, рассмотрение типов данных)\n",
    "- провести исследовательский анализ данных\n",
    "- создать несколько моделей и выбрать модель с лучшей метрикой качества предсказания\n",
    "- оценить важность признаков и сделать выводы"
   ]
  },
  {
   "cell_type": "markdown",
   "id": "523a9973",
   "metadata": {},
   "source": [
    "## Загрузка данных"
   ]
  },
  {
   "cell_type": "code",
   "execution_count": 1,
   "id": "49d4deb5",
   "metadata": {},
   "outputs": [],
   "source": [
    "# Импортируем необходимые библиотеки\n",
    "import pandas as pd\n",
    "import numpy as np\n",
    "import seaborn as sns\n",
    "import matplotlib.pyplot as plt\n",
    "import ast\n",
    "from sklearn.model_selection import train_test_split\n",
    "from sklearn.compose import ColumnTransformer\n",
    "from sklearn.preprocessing import StandardScaler\n",
    "from sklearn.ensemble import RandomForestClassifier\n",
    "from sklearn.model_selection import GridSearchCV, cross_val_score\n",
    "from sklearn.metrics import roc_auc_score\n",
    "from catboost import CatBoostClassifier\n",
    "from phik import phik_matrix\n",
    "from phik.report import plot_correlation_matrix\n",
    "import shap"
   ]
  },
  {
   "cell_type": "code",
   "execution_count": 2,
   "id": "d68484e8",
   "metadata": {},
   "outputs": [],
   "source": [
    "# Зададим константы\n",
    "RANDOM_STATE = 10"
   ]
  },
  {
   "cell_type": "code",
   "execution_count": 3,
   "id": "228fbe21",
   "metadata": {},
   "outputs": [],
   "source": [
    "# Загрузим данные о покупках клиентов по дням и по товарам\n",
    "df_purchases = pd.read_csv('apparel-purchases.csv', parse_dates=['date'])"
   ]
  },
  {
   "cell_type": "code",
   "execution_count": 4,
   "id": "c264226a",
   "metadata": {},
   "outputs": [
    {
     "data": {
      "text/html": [
       "<div>\n",
       "<style scoped>\n",
       "    .dataframe tbody tr th:only-of-type {\n",
       "        vertical-align: middle;\n",
       "    }\n",
       "\n",
       "    .dataframe tbody tr th {\n",
       "        vertical-align: top;\n",
       "    }\n",
       "\n",
       "    .dataframe thead th {\n",
       "        text-align: right;\n",
       "    }\n",
       "</style>\n",
       "<table border=\"1\" class=\"dataframe\">\n",
       "  <thead>\n",
       "    <tr style=\"text-align: right;\">\n",
       "      <th></th>\n",
       "      <th>client_id</th>\n",
       "      <th>quantity</th>\n",
       "      <th>price</th>\n",
       "      <th>category_ids</th>\n",
       "      <th>date</th>\n",
       "      <th>message_id</th>\n",
       "    </tr>\n",
       "  </thead>\n",
       "  <tbody>\n",
       "    <tr>\n",
       "      <th>0</th>\n",
       "      <td>1515915625468169594</td>\n",
       "      <td>1</td>\n",
       "      <td>1999.0</td>\n",
       "      <td>['4', '28', '57', '431']</td>\n",
       "      <td>2022-05-16</td>\n",
       "      <td>1515915625468169594-4301-627b661e9736d</td>\n",
       "    </tr>\n",
       "    <tr>\n",
       "      <th>1</th>\n",
       "      <td>1515915625468169594</td>\n",
       "      <td>1</td>\n",
       "      <td>2499.0</td>\n",
       "      <td>['4', '28', '57', '431']</td>\n",
       "      <td>2022-05-16</td>\n",
       "      <td>1515915625468169594-4301-627b661e9736d</td>\n",
       "    </tr>\n",
       "    <tr>\n",
       "      <th>2</th>\n",
       "      <td>1515915625471138230</td>\n",
       "      <td>1</td>\n",
       "      <td>6499.0</td>\n",
       "      <td>['4', '28', '57', '431']</td>\n",
       "      <td>2022-05-16</td>\n",
       "      <td>1515915625471138230-4437-6282242f27843</td>\n",
       "    </tr>\n",
       "  </tbody>\n",
       "</table>\n",
       "</div>"
      ],
      "text/plain": [
       "             client_id  quantity   price              category_ids       date   \n",
       "0  1515915625468169594         1  1999.0  ['4', '28', '57', '431'] 2022-05-16  \\\n",
       "1  1515915625468169594         1  2499.0  ['4', '28', '57', '431'] 2022-05-16   \n",
       "2  1515915625471138230         1  6499.0  ['4', '28', '57', '431'] 2022-05-16   \n",
       "\n",
       "                               message_id  \n",
       "0  1515915625468169594-4301-627b661e9736d  \n",
       "1  1515915625468169594-4301-627b661e9736d  \n",
       "2  1515915625471138230-4437-6282242f27843  "
      ]
     },
     "execution_count": 4,
     "metadata": {},
     "output_type": "execute_result"
    }
   ],
   "source": [
    "df_purchases.head(3)"
   ]
  },
  {
   "cell_type": "code",
   "execution_count": 5,
   "id": "d5f156c3",
   "metadata": {},
   "outputs": [
    {
     "name": "stdout",
     "output_type": "stream",
     "text": [
      "<class 'pandas.core.frame.DataFrame'>\n",
      "RangeIndex: 202208 entries, 0 to 202207\n",
      "Data columns (total 6 columns):\n",
      " #   Column        Non-Null Count   Dtype         \n",
      "---  ------        --------------   -----         \n",
      " 0   client_id     202208 non-null  int64         \n",
      " 1   quantity      202208 non-null  int64         \n",
      " 2   price         202208 non-null  float64       \n",
      " 3   category_ids  202208 non-null  object        \n",
      " 4   date          202208 non-null  datetime64[ns]\n",
      " 5   message_id    202208 non-null  object        \n",
      "dtypes: datetime64[ns](1), float64(1), int64(2), object(2)\n",
      "memory usage: 9.3+ MB\n"
     ]
    }
   ],
   "source": [
    "df_purchases.info()"
   ]
  },
  {
   "cell_type": "markdown",
   "id": "66b01b74",
   "metadata": {},
   "source": [
    "- **client_id** - идентификатор клиента\n",
    "- **quantity** - количество единиц товара\n",
    "- **price** - цена товара\n",
    "- **category_ids** - идентификаторы категорий\n",
    "- **date** - дата покупки\n",
    "- **message_id** идентификатор сообщения из рассылки"
   ]
  },
  {
   "cell_type": "markdown",
   "id": "f1698482",
   "metadata": {},
   "source": [
    "В данных о покупках клиентов по дням и по товарам находится 202208 записей, пропусков нет"
   ]
  },
  {
   "cell_type": "code",
   "execution_count": 6,
   "id": "968ba021",
   "metadata": {},
   "outputs": [],
   "source": [
    "# Загрузим данные о рассылках, которые были отправлены клиентам из таблицы покупок\n",
    "df_messages = pd.read_csv('apparel-messages.csv', parse_dates=['date'])"
   ]
  },
  {
   "cell_type": "code",
   "execution_count": 7,
   "id": "b3745360",
   "metadata": {},
   "outputs": [
    {
     "data": {
      "text/html": [
       "<div>\n",
       "<style scoped>\n",
       "    .dataframe tbody tr th:only-of-type {\n",
       "        vertical-align: middle;\n",
       "    }\n",
       "\n",
       "    .dataframe tbody tr th {\n",
       "        vertical-align: top;\n",
       "    }\n",
       "\n",
       "    .dataframe thead th {\n",
       "        text-align: right;\n",
       "    }\n",
       "</style>\n",
       "<table border=\"1\" class=\"dataframe\">\n",
       "  <thead>\n",
       "    <tr style=\"text-align: right;\">\n",
       "      <th></th>\n",
       "      <th>bulk_campaign_id</th>\n",
       "      <th>client_id</th>\n",
       "      <th>message_id</th>\n",
       "      <th>event</th>\n",
       "      <th>channel</th>\n",
       "      <th>date</th>\n",
       "      <th>created_at</th>\n",
       "    </tr>\n",
       "  </thead>\n",
       "  <tbody>\n",
       "    <tr>\n",
       "      <th>0</th>\n",
       "      <td>4439</td>\n",
       "      <td>1515915625626736623</td>\n",
       "      <td>1515915625626736623-4439-6283415ac07ea</td>\n",
       "      <td>open</td>\n",
       "      <td>email</td>\n",
       "      <td>2022-05-19</td>\n",
       "      <td>2022-05-19 00:14:20</td>\n",
       "    </tr>\n",
       "    <tr>\n",
       "      <th>1</th>\n",
       "      <td>4439</td>\n",
       "      <td>1515915625490086521</td>\n",
       "      <td>1515915625490086521-4439-62834150016dd</td>\n",
       "      <td>open</td>\n",
       "      <td>email</td>\n",
       "      <td>2022-05-19</td>\n",
       "      <td>2022-05-19 00:39:34</td>\n",
       "    </tr>\n",
       "    <tr>\n",
       "      <th>2</th>\n",
       "      <td>4439</td>\n",
       "      <td>1515915625553578558</td>\n",
       "      <td>1515915625553578558-4439-6283415b36b4f</td>\n",
       "      <td>open</td>\n",
       "      <td>email</td>\n",
       "      <td>2022-05-19</td>\n",
       "      <td>2022-05-19 00:51:49</td>\n",
       "    </tr>\n",
       "  </tbody>\n",
       "</table>\n",
       "</div>"
      ],
      "text/plain": [
       "   bulk_campaign_id            client_id   \n",
       "0              4439  1515915625626736623  \\\n",
       "1              4439  1515915625490086521   \n",
       "2              4439  1515915625553578558   \n",
       "\n",
       "                               message_id event channel       date   \n",
       "0  1515915625626736623-4439-6283415ac07ea  open   email 2022-05-19  \\\n",
       "1  1515915625490086521-4439-62834150016dd  open   email 2022-05-19   \n",
       "2  1515915625553578558-4439-6283415b36b4f  open   email 2022-05-19   \n",
       "\n",
       "            created_at  \n",
       "0  2022-05-19 00:14:20  \n",
       "1  2022-05-19 00:39:34  \n",
       "2  2022-05-19 00:51:49  "
      ]
     },
     "execution_count": 7,
     "metadata": {},
     "output_type": "execute_result"
    }
   ],
   "source": [
    "df_messages.head(3)"
   ]
  },
  {
   "cell_type": "code",
   "execution_count": 8,
   "id": "31edaa04",
   "metadata": {},
   "outputs": [
    {
     "name": "stdout",
     "output_type": "stream",
     "text": [
      "<class 'pandas.core.frame.DataFrame'>\n",
      "RangeIndex: 12739798 entries, 0 to 12739797\n",
      "Data columns (total 7 columns):\n",
      " #   Column            Dtype         \n",
      "---  ------            -----         \n",
      " 0   bulk_campaign_id  int64         \n",
      " 1   client_id         int64         \n",
      " 2   message_id        object        \n",
      " 3   event             object        \n",
      " 4   channel           object        \n",
      " 5   date              datetime64[ns]\n",
      " 6   created_at        object        \n",
      "dtypes: datetime64[ns](1), int64(2), object(4)\n",
      "memory usage: 680.4+ MB\n"
     ]
    }
   ],
   "source": [
    "df_messages.info()"
   ]
  },
  {
   "cell_type": "markdown",
   "id": "6422ae2f",
   "metadata": {},
   "source": [
    "- **bulk_campaign_id** - идентификатор рассылки\n",
    "- **client_id** - идентификатор клиента\n",
    "- **message_id** - идентификатор сообщения\n",
    "- **event** - действие с сообщением (отправлено, открыто, покупка…)\n",
    "- **channel** - канал рассылки\n",
    "- **date** - дата действия\n",
    "- **created_at** - дата-время полностью"
   ]
  },
  {
   "cell_type": "code",
   "execution_count": 9,
   "id": "f3b98777",
   "metadata": {},
   "outputs": [
    {
     "data": {
      "text/plain": [
       "bulk_campaign_id    0\n",
       "client_id           0\n",
       "message_id          0\n",
       "event               0\n",
       "channel             0\n",
       "date                0\n",
       "created_at          0\n",
       "dtype: int64"
      ]
     },
     "execution_count": 9,
     "metadata": {},
     "output_type": "execute_result"
    }
   ],
   "source": [
    "df_messages.isnull().sum()"
   ]
  },
  {
   "cell_type": "markdown",
   "id": "336dfd89",
   "metadata": {},
   "source": [
    "В данных о рассылках находится более 12 млн. записей, пропусков нет"
   ]
  },
  {
   "cell_type": "code",
   "execution_count": 10,
   "id": "f420a8fb",
   "metadata": {},
   "outputs": [],
   "source": [
    "# Загрузим данные о покупках в целевом периоде\n",
    "df_target = pd.read_csv('apparel-target_binary.csv')"
   ]
  },
  {
   "cell_type": "code",
   "execution_count": 11,
   "id": "622ee154",
   "metadata": {},
   "outputs": [
    {
     "data": {
      "text/html": [
       "<div>\n",
       "<style scoped>\n",
       "    .dataframe tbody tr th:only-of-type {\n",
       "        vertical-align: middle;\n",
       "    }\n",
       "\n",
       "    .dataframe tbody tr th {\n",
       "        vertical-align: top;\n",
       "    }\n",
       "\n",
       "    .dataframe thead th {\n",
       "        text-align: right;\n",
       "    }\n",
       "</style>\n",
       "<table border=\"1\" class=\"dataframe\">\n",
       "  <thead>\n",
       "    <tr style=\"text-align: right;\">\n",
       "      <th></th>\n",
       "      <th>client_id</th>\n",
       "      <th>target</th>\n",
       "    </tr>\n",
       "  </thead>\n",
       "  <tbody>\n",
       "    <tr>\n",
       "      <th>0</th>\n",
       "      <td>1515915625468060902</td>\n",
       "      <td>0</td>\n",
       "    </tr>\n",
       "    <tr>\n",
       "      <th>1</th>\n",
       "      <td>1515915625468061003</td>\n",
       "      <td>1</td>\n",
       "    </tr>\n",
       "    <tr>\n",
       "      <th>2</th>\n",
       "      <td>1515915625468061099</td>\n",
       "      <td>0</td>\n",
       "    </tr>\n",
       "  </tbody>\n",
       "</table>\n",
       "</div>"
      ],
      "text/plain": [
       "             client_id  target\n",
       "0  1515915625468060902       0\n",
       "1  1515915625468061003       1\n",
       "2  1515915625468061099       0"
      ]
     },
     "execution_count": 11,
     "metadata": {},
     "output_type": "execute_result"
    }
   ],
   "source": [
    "df_target.head(3)"
   ]
  },
  {
   "cell_type": "code",
   "execution_count": 12,
   "id": "33a1b5a1",
   "metadata": {},
   "outputs": [
    {
     "name": "stdout",
     "output_type": "stream",
     "text": [
      "<class 'pandas.core.frame.DataFrame'>\n",
      "RangeIndex: 49849 entries, 0 to 49848\n",
      "Data columns (total 2 columns):\n",
      " #   Column     Non-Null Count  Dtype\n",
      "---  ------     --------------  -----\n",
      " 0   client_id  49849 non-null  int64\n",
      " 1   target     49849 non-null  int64\n",
      "dtypes: int64(2)\n",
      "memory usage: 779.0 KB\n"
     ]
    }
   ],
   "source": [
    "df_target.info()"
   ]
  },
  {
   "cell_type": "markdown",
   "id": "4cfcb5c5",
   "metadata": {},
   "source": [
    "- **client_id** - идентификатор клиента\n",
    "- **target** - клиент совершил покупку в целевом периоде"
   ]
  },
  {
   "cell_type": "markdown",
   "id": "a6394b75",
   "metadata": {},
   "source": [
    "В данных о покупках в целевом периоде находится 49849 записей, пропусков нет. Есть целевой признак target"
   ]
  },
  {
   "cell_type": "code",
   "execution_count": 13,
   "id": "881c1dff",
   "metadata": {},
   "outputs": [],
   "source": [
    "# Переименуем столбцы 'date', т.к. они характеризуют разные даты\n",
    "df_purchases = df_purchases.rename(columns={'date': 'date_buy'})\n",
    "df_messages = df_messages.rename(columns={'date': 'date_action'})"
   ]
  },
  {
   "cell_type": "markdown",
   "id": "6db94218",
   "metadata": {},
   "source": [
    "Данные успешно загружены в датафреймы, названия столбцов соответствуют форме \"snake_case\". Данные соответствуют описанию задачи, в данных есть целевой признак (клиент совершил покупку в целевом периоде)."
   ]
  },
  {
   "cell_type": "markdown",
   "id": "14479338",
   "metadata": {},
   "source": [
    "### Предобработка данных"
   ]
  },
  {
   "cell_type": "markdown",
   "id": "52e1501f",
   "metadata": {},
   "source": [
    "**Проверка на наличие дубликатов**"
   ]
  },
  {
   "cell_type": "code",
   "execution_count": 14,
   "id": "35c07819",
   "metadata": {},
   "outputs": [
    {
     "data": {
      "text/plain": [
       "48610"
      ]
     },
     "execution_count": 14,
     "metadata": {},
     "output_type": "execute_result"
    }
   ],
   "source": [
    "df_messages.duplicated().sum()"
   ]
  },
  {
   "cell_type": "code",
   "execution_count": 15,
   "id": "492c624c",
   "metadata": {},
   "outputs": [
    {
     "data": {
      "text/plain": [
       "0"
      ]
     },
     "execution_count": 15,
     "metadata": {},
     "output_type": "execute_result"
    }
   ],
   "source": [
    "# Удалим дубликаты\n",
    "df_messages.drop_duplicates(inplace=True)\n",
    "df_messages.duplicated().sum()"
   ]
  },
  {
   "cell_type": "code",
   "execution_count": 16,
   "id": "8bff2b0b",
   "metadata": {},
   "outputs": [
    {
     "data": {
      "text/plain": [
       "73020"
      ]
     },
     "execution_count": 16,
     "metadata": {},
     "output_type": "execute_result"
    }
   ],
   "source": [
    "df_purchases.duplicated().sum()"
   ]
  },
  {
   "cell_type": "code",
   "execution_count": 17,
   "id": "0d1f9d9e",
   "metadata": {},
   "outputs": [
    {
     "data": {
      "text/plain": [
       "0"
      ]
     },
     "execution_count": 17,
     "metadata": {},
     "output_type": "execute_result"
    }
   ],
   "source": [
    "# Удалим дубликаты\n",
    "df_purchases.drop_duplicates(inplace=True)\n",
    "df_purchases.duplicated().sum()"
   ]
  },
  {
   "cell_type": "code",
   "execution_count": 18,
   "id": "724f4212",
   "metadata": {},
   "outputs": [
    {
     "data": {
      "text/plain": [
       "0"
      ]
     },
     "execution_count": 18,
     "metadata": {},
     "output_type": "execute_result"
    }
   ],
   "source": [
    "df_target.duplicated().sum()"
   ]
  },
  {
   "cell_type": "markdown",
   "id": "525533bc",
   "metadata": {},
   "source": [
    "**Проверка на наличие дубликатов в столбцах**"
   ]
  },
  {
   "cell_type": "code",
   "execution_count": 19,
   "id": "2e6c0444",
   "metadata": {},
   "outputs": [],
   "source": [
    "# Преобразуем тип данных\n",
    "df_messages['created_at'] = pd.to_datetime(df_messages['created_at'], format='%Y-%m-%d %H:%M:%S')"
   ]
  },
  {
   "cell_type": "code",
   "execution_count": 20,
   "id": "dbccb30f",
   "metadata": {},
   "outputs": [
    {
     "data": {
      "text/plain": [
       "3629521"
      ]
     },
     "execution_count": 20,
     "metadata": {},
     "output_type": "execute_result"
    }
   ],
   "source": [
    "df_messages['message_id'].duplicated().sum()"
   ]
  },
  {
   "cell_type": "markdown",
   "id": "bbd16457",
   "metadata": {},
   "source": [
    "Есть много записей с повторяющимся message_id. Оставим только те message_id, у которых крайние даты и время операции"
   ]
  },
  {
   "cell_type": "code",
   "execution_count": 21,
   "id": "c9f07235",
   "metadata": {},
   "outputs": [],
   "source": [
    "df_messages = df_messages.pivot_table(\n",
    "    index='message_id', values='created_at', aggfunc='max').reset_index().merge(\n",
    "        df_messages, on=['message_id', 'created_at'], how='left')"
   ]
  },
  {
   "cell_type": "code",
   "execution_count": 22,
   "id": "3e0bb926",
   "metadata": {},
   "outputs": [],
   "source": [
    "# Округлим до даты\n",
    "df_messages['created_at'] = pd.DatetimeIndex(df_messages['created_at']).date"
   ]
  },
  {
   "cell_type": "code",
   "execution_count": 23,
   "id": "c51a4eac",
   "metadata": {},
   "outputs": [
    {
     "data": {
      "text/html": [
       "<div>\n",
       "<style scoped>\n",
       "    .dataframe tbody tr th:only-of-type {\n",
       "        vertical-align: middle;\n",
       "    }\n",
       "\n",
       "    .dataframe tbody tr th {\n",
       "        vertical-align: top;\n",
       "    }\n",
       "\n",
       "    .dataframe thead th {\n",
       "        text-align: right;\n",
       "    }\n",
       "</style>\n",
       "<table border=\"1\" class=\"dataframe\">\n",
       "  <thead>\n",
       "    <tr style=\"text-align: right;\">\n",
       "      <th></th>\n",
       "      <th>message_id</th>\n",
       "      <th>created_at</th>\n",
       "      <th>bulk_campaign_id</th>\n",
       "      <th>client_id</th>\n",
       "      <th>event</th>\n",
       "      <th>channel</th>\n",
       "      <th>date_action</th>\n",
       "    </tr>\n",
       "  </thead>\n",
       "  <tbody>\n",
       "  </tbody>\n",
       "</table>\n",
       "</div>"
      ],
      "text/plain": [
       "Empty DataFrame\n",
       "Columns: [message_id, created_at, bulk_campaign_id, client_id, event, channel, date_action]\n",
       "Index: []"
      ]
     },
     "execution_count": 23,
     "metadata": {},
     "output_type": "execute_result"
    }
   ],
   "source": [
    "# Поищем записи, в которых столбец 'date' не равен столбцу 'created_at'\n",
    "df_messages.query('date_action != created_at')"
   ]
  },
  {
   "cell_type": "markdown",
   "id": "f76503a0",
   "metadata": {},
   "source": [
    "Таких столбцов нет, поэтому удалим столбец 'created_at'"
   ]
  },
  {
   "cell_type": "code",
   "execution_count": 24,
   "id": "153fce68",
   "metadata": {},
   "outputs": [],
   "source": [
    "df_messages.drop(columns=['created_at'], inplace=True)"
   ]
  },
  {
   "cell_type": "code",
   "execution_count": 25,
   "id": "bfd0027c",
   "metadata": {},
   "outputs": [
    {
     "data": {
      "text/plain": [
       "0"
      ]
     },
     "execution_count": 25,
     "metadata": {},
     "output_type": "execute_result"
    }
   ],
   "source": [
    "df_messages.duplicated().sum()"
   ]
  },
  {
   "cell_type": "markdown",
   "id": "90804375",
   "metadata": {},
   "source": [
    "Похоже, что столбец message_id содержит значения столбцов bulk_campaign_id и client_id. Проверим это"
   ]
  },
  {
   "cell_type": "code",
   "execution_count": 26,
   "id": "d8dff722",
   "metadata": {},
   "outputs": [],
   "source": [
    "# Разделим message_id. В качестве разделителя используем символ \"-\"\n",
    "new_df = df_messages['message_id'].str.split('-', expand=True)"
   ]
  },
  {
   "cell_type": "code",
   "execution_count": 27,
   "id": "d4a63866",
   "metadata": {},
   "outputs": [],
   "source": [
    "new_df[0] = new_df[0].astype('int64')\n",
    "new_df[1] = new_df[1].astype('int64')"
   ]
  },
  {
   "cell_type": "code",
   "execution_count": 28,
   "id": "ca1fa85e",
   "metadata": {},
   "outputs": [
    {
     "data": {
      "text/plain": [
       "0"
      ]
     },
     "execution_count": 28,
     "metadata": {},
     "output_type": "execute_result"
    }
   ],
   "source": [
    "# Посчитаем различия\n",
    "(new_df[0] != df_messages['client_id']).sum()"
   ]
  },
  {
   "cell_type": "code",
   "execution_count": 29,
   "id": "1877670c",
   "metadata": {},
   "outputs": [
    {
     "data": {
      "text/plain": [
       "0"
      ]
     },
     "execution_count": 29,
     "metadata": {},
     "output_type": "execute_result"
    }
   ],
   "source": [
    "(new_df[1] != df_messages['bulk_campaign_id']).sum()"
   ]
  },
  {
   "cell_type": "markdown",
   "id": "976e60e0",
   "metadata": {},
   "source": [
    "Таких отличий нет. Значит столбцы bulk_campaign_id и client_id дублируют столбец message_id"
   ]
  },
  {
   "cell_type": "code",
   "execution_count": 30,
   "id": "e9d13806",
   "metadata": {},
   "outputs": [
    {
     "data": {
      "text/html": [
       "<div>\n",
       "<style scoped>\n",
       "    .dataframe tbody tr th:only-of-type {\n",
       "        vertical-align: middle;\n",
       "    }\n",
       "\n",
       "    .dataframe tbody tr th {\n",
       "        vertical-align: top;\n",
       "    }\n",
       "\n",
       "    .dataframe thead th {\n",
       "        text-align: right;\n",
       "    }\n",
       "</style>\n",
       "<table border=\"1\" class=\"dataframe\">\n",
       "  <thead>\n",
       "    <tr style=\"text-align: right;\">\n",
       "      <th></th>\n",
       "      <th>message_id</th>\n",
       "      <th>bulk_campaign_id</th>\n",
       "      <th>client_id</th>\n",
       "      <th>event</th>\n",
       "      <th>channel</th>\n",
       "      <th>date_action</th>\n",
       "    </tr>\n",
       "  </thead>\n",
       "  <tbody>\n",
       "    <tr>\n",
       "      <th>0</th>\n",
       "      <td>1515915625468060902-10022-63e5ededd911f</td>\n",
       "      <td>10022</td>\n",
       "      <td>1515915625468060902</td>\n",
       "      <td>send</td>\n",
       "      <td>email</td>\n",
       "      <td>2023-02-10</td>\n",
       "    </tr>\n",
       "    <tr>\n",
       "      <th>1</th>\n",
       "      <td>1515915625468060902-10218-63ef56ed94656</td>\n",
       "      <td>10218</td>\n",
       "      <td>1515915625468060902</td>\n",
       "      <td>send</td>\n",
       "      <td>email</td>\n",
       "      <td>2023-02-17</td>\n",
       "    </tr>\n",
       "    <tr>\n",
       "      <th>2</th>\n",
       "      <td>1515915625468060902-10289-63f35a8a9ff35</td>\n",
       "      <td>10289</td>\n",
       "      <td>1515915625468060902</td>\n",
       "      <td>send</td>\n",
       "      <td>email</td>\n",
       "      <td>2023-02-20</td>\n",
       "    </tr>\n",
       "  </tbody>\n",
       "</table>\n",
       "</div>"
      ],
      "text/plain": [
       "                                message_id  bulk_campaign_id   \n",
       "0  1515915625468060902-10022-63e5ededd911f             10022  \\\n",
       "1  1515915625468060902-10218-63ef56ed94656             10218   \n",
       "2  1515915625468060902-10289-63f35a8a9ff35             10289   \n",
       "\n",
       "             client_id event channel date_action  \n",
       "0  1515915625468060902  send   email  2023-02-10  \n",
       "1  1515915625468060902  send   email  2023-02-17  \n",
       "2  1515915625468060902  send   email  2023-02-20  "
      ]
     },
     "execution_count": 30,
     "metadata": {},
     "output_type": "execute_result"
    }
   ],
   "source": [
    "df_messages.head(3)"
   ]
  },
  {
   "cell_type": "code",
   "execution_count": 31,
   "id": "1981498d",
   "metadata": {},
   "outputs": [
    {
     "data": {
      "text/plain": [
       "933"
      ]
     },
     "execution_count": 31,
     "metadata": {},
     "output_type": "execute_result"
    }
   ],
   "source": [
    "df_purchases['category_ids'].nunique()"
   ]
  },
  {
   "cell_type": "markdown",
   "id": "7bddd653",
   "metadata": {},
   "source": [
    "**Разделим category_ids на несколько колонок**"
   ]
  },
  {
   "cell_type": "code",
   "execution_count": 32,
   "id": "1205caa1",
   "metadata": {},
   "outputs": [],
   "source": [
    "# Посчитаем сколько раз встречается каждая категория в наборе данных\n",
    "category_dict = {}\n",
    "for cat_ids in df_purchases['category_ids']:\n",
    "    for cat_id in ast.literal_eval(cat_ids):\n",
    "        if cat_id in category_dict:\n",
    "            category_dict[cat_id] += 1\n",
    "        else:\n",
    "            category_dict[cat_id] = 1"
   ]
  },
  {
   "cell_type": "code",
   "execution_count": 33,
   "id": "7606a0c8",
   "metadata": {},
   "outputs": [
    {
     "data": {
      "text/plain": [
       "1152"
      ]
     },
     "execution_count": 33,
     "metadata": {},
     "output_type": "execute_result"
    }
   ],
   "source": [
    "len(category_dict)"
   ]
  },
  {
   "cell_type": "code",
   "execution_count": 35,
   "id": "9037cf96",
   "metadata": {},
   "outputs": [],
   "source": [
    "for name_category in category_dict.keys():\n",
    "    if name_category is None:\n",
    "        continue\n",
    "    if category_dict[name_category] > 50: # Исключаем редковстречающиеся категории\n",
    "        df_purchases['cat_'+name_category] = df_purchases['category_ids'].str.contains(\"'\" + name_category + \"'\")\n",
    "        df_purchases['cat_'+name_category] = df_purchases['cat_'+name_category].apply(lambda x: 1 if x else 0)"
   ]
  },
  {
   "cell_type": "code",
   "execution_count": 36,
   "id": "0345bd41",
   "metadata": {},
   "outputs": [
    {
     "data": {
      "text/html": [
       "<div>\n",
       "<style scoped>\n",
       "    .dataframe tbody tr th:only-of-type {\n",
       "        vertical-align: middle;\n",
       "    }\n",
       "\n",
       "    .dataframe tbody tr th {\n",
       "        vertical-align: top;\n",
       "    }\n",
       "\n",
       "    .dataframe thead th {\n",
       "        text-align: right;\n",
       "    }\n",
       "</style>\n",
       "<table border=\"1\" class=\"dataframe\">\n",
       "  <thead>\n",
       "    <tr style=\"text-align: right;\">\n",
       "      <th></th>\n",
       "      <th>client_id</th>\n",
       "      <th>quantity</th>\n",
       "      <th>price</th>\n",
       "      <th>category_ids</th>\n",
       "      <th>date_buy</th>\n",
       "      <th>message_id</th>\n",
       "      <th>cat_4</th>\n",
       "      <th>cat_28</th>\n",
       "      <th>cat_57</th>\n",
       "      <th>cat_431</th>\n",
       "      <th>...</th>\n",
       "      <th>cat_6064</th>\n",
       "      <th>cat_6047</th>\n",
       "      <th>cat_6068</th>\n",
       "      <th>cat_5746</th>\n",
       "      <th>cat_6075</th>\n",
       "      <th>cat_1381</th>\n",
       "      <th>cat_6245</th>\n",
       "      <th>cat_6079</th>\n",
       "      <th>cat_6243</th>\n",
       "      <th>cat_6244</th>\n",
       "    </tr>\n",
       "  </thead>\n",
       "  <tbody>\n",
       "    <tr>\n",
       "      <th>0</th>\n",
       "      <td>1515915625468169594</td>\n",
       "      <td>1</td>\n",
       "      <td>1999.0</td>\n",
       "      <td>['4', '28', '57', '431']</td>\n",
       "      <td>2022-05-16</td>\n",
       "      <td>1515915625468169594-4301-627b661e9736d</td>\n",
       "      <td>1</td>\n",
       "      <td>1</td>\n",
       "      <td>1</td>\n",
       "      <td>1</td>\n",
       "      <td>...</td>\n",
       "      <td>0</td>\n",
       "      <td>0</td>\n",
       "      <td>0</td>\n",
       "      <td>0</td>\n",
       "      <td>0</td>\n",
       "      <td>0</td>\n",
       "      <td>0</td>\n",
       "      <td>0</td>\n",
       "      <td>0</td>\n",
       "      <td>0</td>\n",
       "    </tr>\n",
       "    <tr>\n",
       "      <th>1</th>\n",
       "      <td>1515915625468169594</td>\n",
       "      <td>1</td>\n",
       "      <td>2499.0</td>\n",
       "      <td>['4', '28', '57', '431']</td>\n",
       "      <td>2022-05-16</td>\n",
       "      <td>1515915625468169594-4301-627b661e9736d</td>\n",
       "      <td>1</td>\n",
       "      <td>1</td>\n",
       "      <td>1</td>\n",
       "      <td>1</td>\n",
       "      <td>...</td>\n",
       "      <td>0</td>\n",
       "      <td>0</td>\n",
       "      <td>0</td>\n",
       "      <td>0</td>\n",
       "      <td>0</td>\n",
       "      <td>0</td>\n",
       "      <td>0</td>\n",
       "      <td>0</td>\n",
       "      <td>0</td>\n",
       "      <td>0</td>\n",
       "    </tr>\n",
       "    <tr>\n",
       "      <th>2</th>\n",
       "      <td>1515915625471138230</td>\n",
       "      <td>1</td>\n",
       "      <td>6499.0</td>\n",
       "      <td>['4', '28', '57', '431']</td>\n",
       "      <td>2022-05-16</td>\n",
       "      <td>1515915625471138230-4437-6282242f27843</td>\n",
       "      <td>1</td>\n",
       "      <td>1</td>\n",
       "      <td>1</td>\n",
       "      <td>1</td>\n",
       "      <td>...</td>\n",
       "      <td>0</td>\n",
       "      <td>0</td>\n",
       "      <td>0</td>\n",
       "      <td>0</td>\n",
       "      <td>0</td>\n",
       "      <td>0</td>\n",
       "      <td>0</td>\n",
       "      <td>0</td>\n",
       "      <td>0</td>\n",
       "      <td>0</td>\n",
       "    </tr>\n",
       "  </tbody>\n",
       "</table>\n",
       "<p>3 rows × 537 columns</p>\n",
       "</div>"
      ],
      "text/plain": [
       "             client_id  quantity   price              category_ids   date_buy   \n",
       "0  1515915625468169594         1  1999.0  ['4', '28', '57', '431'] 2022-05-16  \\\n",
       "1  1515915625468169594         1  2499.0  ['4', '28', '57', '431'] 2022-05-16   \n",
       "2  1515915625471138230         1  6499.0  ['4', '28', '57', '431'] 2022-05-16   \n",
       "\n",
       "                               message_id  cat_4  cat_28  cat_57  cat_431   \n",
       "0  1515915625468169594-4301-627b661e9736d      1       1       1        1  \\\n",
       "1  1515915625468169594-4301-627b661e9736d      1       1       1        1   \n",
       "2  1515915625471138230-4437-6282242f27843      1       1       1        1   \n",
       "\n",
       "   ...  cat_6064  cat_6047  cat_6068  cat_5746  cat_6075  cat_1381  cat_6245   \n",
       "0  ...         0         0         0         0         0         0         0  \\\n",
       "1  ...         0         0         0         0         0         0         0   \n",
       "2  ...         0         0         0         0         0         0         0   \n",
       "\n",
       "   cat_6079  cat_6243  cat_6244  \n",
       "0         0         0         0  \n",
       "1         0         0         0  \n",
       "2         0         0         0  \n",
       "\n",
       "[3 rows x 537 columns]"
      ]
     },
     "execution_count": 36,
     "metadata": {},
     "output_type": "execute_result"
    }
   ],
   "source": [
    "df_purchases.head(3)"
   ]
  },
  {
   "cell_type": "code",
   "execution_count": 37,
   "id": "797ecba5",
   "metadata": {},
   "outputs": [],
   "source": [
    "df_purchases.drop(columns=['category_ids'], inplace=True)"
   ]
  },
  {
   "cell_type": "code",
   "execution_count": 38,
   "id": "f6597ba4",
   "metadata": {},
   "outputs": [
    {
     "data": {
      "text/plain": [
       "0"
      ]
     },
     "execution_count": 38,
     "metadata": {},
     "output_type": "execute_result"
    }
   ],
   "source": [
    "# Удалим дубликаты\n",
    "df_purchases.drop_duplicates(inplace=True)\n",
    "df_purchases.duplicated().sum()"
   ]
  },
  {
   "cell_type": "code",
   "execution_count": 39,
   "id": "64684800",
   "metadata": {},
   "outputs": [
    {
     "data": {
      "text/html": [
       "<div>\n",
       "<style scoped>\n",
       "    .dataframe tbody tr th:only-of-type {\n",
       "        vertical-align: middle;\n",
       "    }\n",
       "\n",
       "    .dataframe tbody tr th {\n",
       "        vertical-align: top;\n",
       "    }\n",
       "\n",
       "    .dataframe thead th {\n",
       "        text-align: right;\n",
       "    }\n",
       "</style>\n",
       "<table border=\"1\" class=\"dataframe\">\n",
       "  <thead>\n",
       "    <tr style=\"text-align: right;\">\n",
       "      <th></th>\n",
       "      <th>client_id</th>\n",
       "      <th>quantity</th>\n",
       "      <th>price</th>\n",
       "      <th>date_buy</th>\n",
       "      <th>message_id</th>\n",
       "      <th>cat_4</th>\n",
       "      <th>cat_28</th>\n",
       "      <th>cat_57</th>\n",
       "      <th>cat_431</th>\n",
       "      <th>cat_244</th>\n",
       "      <th>...</th>\n",
       "      <th>cat_6064</th>\n",
       "      <th>cat_6047</th>\n",
       "      <th>cat_6068</th>\n",
       "      <th>cat_5746</th>\n",
       "      <th>cat_6075</th>\n",
       "      <th>cat_1381</th>\n",
       "      <th>cat_6245</th>\n",
       "      <th>cat_6079</th>\n",
       "      <th>cat_6243</th>\n",
       "      <th>cat_6244</th>\n",
       "    </tr>\n",
       "  </thead>\n",
       "  <tbody>\n",
       "    <tr>\n",
       "      <th>0</th>\n",
       "      <td>1515915625468169594</td>\n",
       "      <td>1</td>\n",
       "      <td>1999.0</td>\n",
       "      <td>2022-05-16</td>\n",
       "      <td>1515915625468169594-4301-627b661e9736d</td>\n",
       "      <td>1</td>\n",
       "      <td>1</td>\n",
       "      <td>1</td>\n",
       "      <td>1</td>\n",
       "      <td>0</td>\n",
       "      <td>...</td>\n",
       "      <td>0</td>\n",
       "      <td>0</td>\n",
       "      <td>0</td>\n",
       "      <td>0</td>\n",
       "      <td>0</td>\n",
       "      <td>0</td>\n",
       "      <td>0</td>\n",
       "      <td>0</td>\n",
       "      <td>0</td>\n",
       "      <td>0</td>\n",
       "    </tr>\n",
       "    <tr>\n",
       "      <th>1</th>\n",
       "      <td>1515915625468169594</td>\n",
       "      <td>1</td>\n",
       "      <td>2499.0</td>\n",
       "      <td>2022-05-16</td>\n",
       "      <td>1515915625468169594-4301-627b661e9736d</td>\n",
       "      <td>1</td>\n",
       "      <td>1</td>\n",
       "      <td>1</td>\n",
       "      <td>1</td>\n",
       "      <td>0</td>\n",
       "      <td>...</td>\n",
       "      <td>0</td>\n",
       "      <td>0</td>\n",
       "      <td>0</td>\n",
       "      <td>0</td>\n",
       "      <td>0</td>\n",
       "      <td>0</td>\n",
       "      <td>0</td>\n",
       "      <td>0</td>\n",
       "      <td>0</td>\n",
       "      <td>0</td>\n",
       "    </tr>\n",
       "    <tr>\n",
       "      <th>2</th>\n",
       "      <td>1515915625471138230</td>\n",
       "      <td>1</td>\n",
       "      <td>6499.0</td>\n",
       "      <td>2022-05-16</td>\n",
       "      <td>1515915625471138230-4437-6282242f27843</td>\n",
       "      <td>1</td>\n",
       "      <td>1</td>\n",
       "      <td>1</td>\n",
       "      <td>1</td>\n",
       "      <td>0</td>\n",
       "      <td>...</td>\n",
       "      <td>0</td>\n",
       "      <td>0</td>\n",
       "      <td>0</td>\n",
       "      <td>0</td>\n",
       "      <td>0</td>\n",
       "      <td>0</td>\n",
       "      <td>0</td>\n",
       "      <td>0</td>\n",
       "      <td>0</td>\n",
       "      <td>0</td>\n",
       "    </tr>\n",
       "  </tbody>\n",
       "</table>\n",
       "<p>3 rows × 536 columns</p>\n",
       "</div>"
      ],
      "text/plain": [
       "             client_id  quantity   price   date_buy   \n",
       "0  1515915625468169594         1  1999.0 2022-05-16  \\\n",
       "1  1515915625468169594         1  2499.0 2022-05-16   \n",
       "2  1515915625471138230         1  6499.0 2022-05-16   \n",
       "\n",
       "                               message_id  cat_4  cat_28  cat_57  cat_431   \n",
       "0  1515915625468169594-4301-627b661e9736d      1       1       1        1  \\\n",
       "1  1515915625468169594-4301-627b661e9736d      1       1       1        1   \n",
       "2  1515915625471138230-4437-6282242f27843      1       1       1        1   \n",
       "\n",
       "   cat_244  ...  cat_6064  cat_6047  cat_6068  cat_5746  cat_6075  cat_1381   \n",
       "0        0  ...         0         0         0         0         0         0  \\\n",
       "1        0  ...         0         0         0         0         0         0   \n",
       "2        0  ...         0         0         0         0         0         0   \n",
       "\n",
       "   cat_6245  cat_6079  cat_6243  cat_6244  \n",
       "0         0         0         0         0  \n",
       "1         0         0         0         0  \n",
       "2         0         0         0         0  \n",
       "\n",
       "[3 rows x 536 columns]"
      ]
     },
     "execution_count": 39,
     "metadata": {},
     "output_type": "execute_result"
    }
   ],
   "source": [
    "df_purchases.head(3)"
   ]
  },
  {
   "cell_type": "markdown",
   "id": "8178c4d9",
   "metadata": {},
   "source": [
    "Провели предобработку данных (удалили дубликаты и разделили category_ids на подкатегории)"
   ]
  },
  {
   "cell_type": "markdown",
   "id": "ba56250f",
   "metadata": {},
   "source": [
    "### Исследовательский анализ данных"
   ]
  },
  {
   "cell_type": "markdown",
   "id": "91250aca",
   "metadata": {},
   "source": [
    "#### Статистический анализ признаков"
   ]
  },
  {
   "cell_type": "code",
   "execution_count": 40,
   "id": "1fe4bb86",
   "metadata": {},
   "outputs": [],
   "source": [
    "# создадим функцию для построения плотности частоты, диаграммы размаха и вывода описательной статистики для признаков \n",
    "def build_graph(num_feature, name):\n",
    "    plt.figure(figsize=(7,7))\n",
    "    \n",
    "    plt.subplot(2, 1, 1)\n",
    "    num_feature.plot.kde(grid=True)\n",
    "    plt.title(\"Гистограмма плотности частоты\")\n",
    "    plt.xlabel(name)\n",
    "    plt.ylabel('Плотность частоты')\n",
    "   \n",
    "    plt.subplot(2, 1, 2)\n",
    "    sns.boxplot(x=num_feature)\n",
    "    plt.title(\"Диаграмма размаха\")\n",
    "    plt.xlabel(name)\n",
    "    plt.tight_layout(pad=3.0)\n",
    "    \n",
    "    plt.show()\n",
    "    \n",
    "    print(pd.concat([\n",
    "         num_feature.describe(), \n",
    "    ], axis=1)) "
   ]
  },
  {
   "cell_type": "markdown",
   "id": "fed24fcf",
   "metadata": {},
   "source": [
    "##### Данные о покупках в целевом периоде"
   ]
  },
  {
   "cell_type": "code",
   "execution_count": 41,
   "id": "dc965a93",
   "metadata": {},
   "outputs": [
    {
     "data": {
      "text/plain": [
       "target\n",
       "0    48888\n",
       "1      961\n",
       "Name: count, dtype: int64"
      ]
     },
     "execution_count": 41,
     "metadata": {},
     "output_type": "execute_result"
    }
   ],
   "source": [
    "df_target['target'].value_counts()"
   ]
  },
  {
   "cell_type": "code",
   "execution_count": 42,
   "id": "4a5527d5",
   "metadata": {},
   "outputs": [
    {
     "data": {
      "image/png": "[encoded data removed]",
      "text/plain": [
       "<Figure size 400x400 with 1 Axes>"
      ]
     },
     "metadata": {},
     "output_type": "display_data"
    }
   ],
   "source": [
    "plt.figure(figsize=(4,4))\n",
    "df_target['target'].value_counts(ascending=True).plot(kind='pie', autopct='%.1f%%')\n",
    "plt.title(\"Клиент совершил покупку в течение 90 дней\")\n",
    "plt.ylabel('Количество в %')\n",
    "plt.show()"
   ]
  },
  {
   "cell_type": "code",
   "execution_count": 43,
   "id": "eaf8334d",
   "metadata": {},
   "outputs": [
    {
     "data": {
      "image/png": "[encoded data removed]",
      "text/plain": [
       "<Figure size 500x300 with 1 Axes>"
      ]
     },
     "metadata": {},
     "output_type": "display_data"
    }
   ],
   "source": [
    "plt.figure(figsize=(5,3))\n",
    "df_target['target'].value_counts(ascending=True).plot(kind='barh', grid=True)\n",
    "plt.title(\"Клиент совершил покупку в течение 90 дней\")\n",
    "plt.xlabel('Количество')\n",
    "plt.ylabel('Клиент совершил покупку')\n",
    "plt.show()"
   ]
  },
  {
   "cell_type": "markdown",
   "id": "bae782b8",
   "metadata": {},
   "source": [
    "В наборе данных есть дисбаланс классов. Клиентов, которые совершили покупки в течение 90 дней, значительно меньше, чем клиентов, которые не совершили покупки."
   ]
  },
  {
   "cell_type": "code",
   "execution_count": 44,
   "id": "0c37b7a3",
   "metadata": {},
   "outputs": [
    {
     "data": {
      "text/plain": [
       "49849"
      ]
     },
     "execution_count": 44,
     "metadata": {},
     "output_type": "execute_result"
    }
   ],
   "source": [
    "df_target['client_id'].nunique()"
   ]
  },
  {
   "cell_type": "markdown",
   "id": "32a6df36",
   "metadata": {},
   "source": [
    "##### Данные о покупках клиентов по дням и по товарам"
   ]
  },
  {
   "cell_type": "code",
   "execution_count": 45,
   "id": "bda75a38",
   "metadata": {},
   "outputs": [
    {
     "data": {
      "text/plain": [
       "49849"
      ]
     },
     "execution_count": 45,
     "metadata": {},
     "output_type": "execute_result"
    }
   ],
   "source": [
    "df_purchases['client_id'].nunique()"
   ]
  },
  {
   "cell_type": "code",
   "execution_count": 46,
   "id": "69850a2e",
   "metadata": {},
   "outputs": [
    {
     "data": {
      "text/plain": [
       "0"
      ]
     },
     "execution_count": 46,
     "metadata": {},
     "output_type": "execute_result"
    }
   ],
   "source": [
    "# Проверим сколько клиентов нет из целевого набора\n",
    "pur_client_id = df_purchases['client_id'].unique()\n",
    "df_target[~df_target['client_id'].isin(pur_client_id)].shape[0]"
   ]
  },
  {
   "cell_type": "markdown",
   "id": "d4cb71fc",
   "metadata": {},
   "source": [
    "Количество уникальных клиентов в наборе данных совпадают с количеством уникальных клиентов в данных о покупках в целевом периоде и в наборе данных о покупках есть данные обо всех клиентах из целевого набора"
   ]
  },
  {
   "cell_type": "code",
   "execution_count": 47,
   "id": "e65b43db",
   "metadata": {},
   "outputs": [
    {
     "data": {
      "image/png": "[encoded data removed]",
      "text/plain": [
       "<Figure size 700x700 with 2 Axes>"
      ]
     },
     "metadata": {},
     "output_type": "display_data"
    },
    {
     "name": "stdout",
     "output_type": "stream",
     "text": [
      "            quantity\n",
      "count  129100.000000\n",
      "mean        1.009427\n",
      "std         0.220407\n",
      "min         1.000000\n",
      "25%         1.000000\n",
      "50%         1.000000\n",
      "75%         1.000000\n",
      "max        30.000000\n"
     ]
    }
   ],
   "source": [
    "build_graph(df_purchases['quantity'], 'Количество единиц товара')"
   ]
  },
  {
   "cell_type": "markdown",
   "id": "d4fda70d",
   "metadata": {},
   "source": [
    "Аномалий нет. Такое количество единиц товара возможно"
   ]
  },
  {
   "cell_type": "code",
   "execution_count": 48,
   "id": "ea95d89b",
   "metadata": {},
   "outputs": [
    {
     "data": {
      "image/png": "[encoded data removed]",
      "text/plain": [
       "<Figure size 700x700 with 2 Axes>"
      ]
     },
     "metadata": {},
     "output_type": "display_data"
    },
    {
     "name": "stdout",
     "output_type": "stream",
     "text": [
      "               price\n",
      "count  129100.000000\n",
      "mean     1265.014934\n",
      "std      1375.107807\n",
      "min         1.000000\n",
      "25%       399.000000\n",
      "50%       999.000000\n",
      "75%      1750.000000\n",
      "max     85499.000000\n"
     ]
    }
   ],
   "source": [
    "build_graph(df_purchases['price'], 'Цена')"
   ]
  },
  {
   "cell_type": "markdown",
   "id": "5d9a86d6",
   "metadata": {},
   "source": [
    "Аномалий нет. Такие цены возможны"
   ]
  },
  {
   "cell_type": "code",
   "execution_count": 49,
   "id": "1e140fb8",
   "metadata": {},
   "outputs": [
    {
     "data": {
      "text/plain": [
       "642"
      ]
     },
     "execution_count": 49,
     "metadata": {},
     "output_type": "execute_result"
    }
   ],
   "source": [
    "df_purchases['date_buy'].nunique()"
   ]
  },
  {
   "cell_type": "code",
   "execution_count": 50,
   "id": "ba3f5c55",
   "metadata": {},
   "outputs": [
    {
     "data": {
      "image/png": "[encoded data removed]",
      "text/plain": [
       "<Figure size 640x480 with 1 Axes>"
      ]
     },
     "metadata": {},
     "output_type": "display_data"
    }
   ],
   "source": [
    "sns.countplot(x=pd.DatetimeIndex(df_purchases['date_buy']).year)\n",
    "plt.title(\"Диаграмма распределения покупок по годам\")\n",
    "plt.xlabel(\"Год\")\n",
    "plt.ylabel('Количество')\n",
    "plt.show()"
   ]
  },
  {
   "cell_type": "markdown",
   "id": "d08a84fc",
   "metadata": {},
   "source": [
    "Больше всего покупок было в 2023 году. Данные за 2024 год представлены за неполный год."
   ]
  },
  {
   "cell_type": "code",
   "execution_count": 51,
   "id": "ed4955bf",
   "metadata": {},
   "outputs": [
    {
     "data": {
      "text/plain": [
       "50204"
      ]
     },
     "execution_count": 51,
     "metadata": {},
     "output_type": "execute_result"
    }
   ],
   "source": [
    "df_purchases['message_id'].nunique()"
   ]
  },
  {
   "cell_type": "markdown",
   "id": "fa7e559f",
   "metadata": {},
   "source": [
    "##### Данные о рассылках"
   ]
  },
  {
   "cell_type": "code",
   "execution_count": 52,
   "id": "fe32707d",
   "metadata": {},
   "outputs": [
    {
     "data": {
      "text/plain": [
       "2709"
      ]
     },
     "execution_count": 52,
     "metadata": {},
     "output_type": "execute_result"
    }
   ],
   "source": [
    "df_messages['bulk_campaign_id'].nunique()"
   ]
  },
  {
   "cell_type": "code",
   "execution_count": 53,
   "id": "ab6a0f87",
   "metadata": {},
   "outputs": [
    {
     "data": {
      "text/plain": [
       "53329"
      ]
     },
     "execution_count": 53,
     "metadata": {},
     "output_type": "execute_result"
    }
   ],
   "source": [
    "df_messages['client_id'].nunique()"
   ]
  },
  {
   "cell_type": "code",
   "execution_count": 54,
   "id": "a0e9329c",
   "metadata": {},
   "outputs": [
    {
     "data": {
      "text/plain": [
       "7867"
      ]
     },
     "execution_count": 54,
     "metadata": {},
     "output_type": "execute_result"
    }
   ],
   "source": [
    "# Проверим сколько клиентов нет из целевого набора\n",
    "mess_client_id = df_messages['client_id'].unique()\n",
    "df_target[~df_target['client_id'].isin(mess_client_id)].shape[0]"
   ]
  },
  {
   "cell_type": "markdown",
   "id": "7e669607",
   "metadata": {},
   "source": [
    "Количество уникальных клиентов в наборе данных больше, чем количество уникальных клиентов в данных о покупках в целевом периоде, но в наборе данных о рассылках нет данных о 7867 клиентах из целевого набора данных, т.е. им рассылок не было или данные о рассылках этим клиентам потерялись"
   ]
  },
  {
   "cell_type": "code",
   "execution_count": 55,
   "id": "965be019",
   "metadata": {},
   "outputs": [
    {
     "data": {
      "text/plain": [
       "event\n",
       "send           6050134\n",
       "open           2700747\n",
       "click           287870\n",
       "purchase         42739\n",
       "hard_bounce      18635\n",
       "soft_bounce       9918\n",
       "unsubscribe       1735\n",
       "hbq_spam           823\n",
       "complain           483\n",
       "subscribe           26\n",
       "close                1\n",
       "Name: count, dtype: int64"
      ]
     },
     "execution_count": 55,
     "metadata": {},
     "output_type": "execute_result"
    }
   ],
   "source": [
    "df_messages['event'].value_counts()"
   ]
  },
  {
   "cell_type": "code",
   "execution_count": 56,
   "id": "7b8d1e8d",
   "metadata": {},
   "outputs": [
    {
     "data": {
      "image/png": "[encoded data removed]",
      "text/plain": [
       "<Figure size 700x500 with 1 Axes>"
      ]
     },
     "metadata": {},
     "output_type": "display_data"
    }
   ],
   "source": [
    "plt.figure(figsize=(7,5))\n",
    "sns.countplot(y=df_messages['event'])\n",
    "plt.title(\"Диаграмма распределения по действиям с сообщением\")\n",
    "plt.ylabel(\"Действие с сообщением\")\n",
    "plt.xlabel('Количество')\n",
    "plt.show()"
   ]
  },
  {
   "cell_type": "markdown",
   "id": "ddacaf6b",
   "metadata": {},
   "source": [
    "Самое частое действие с сообщением это send (отправлено)"
   ]
  },
  {
   "cell_type": "code",
   "execution_count": 57,
   "id": "589cf25d",
   "metadata": {},
   "outputs": [
    {
     "data": {
      "text/plain": [
       "0"
      ]
     },
     "execution_count": 57,
     "metadata": {},
     "output_type": "execute_result"
    }
   ],
   "source": [
    "df_messages.duplicated().sum()"
   ]
  },
  {
   "cell_type": "code",
   "execution_count": 58,
   "id": "9c7669aa",
   "metadata": {},
   "outputs": [
    {
     "data": {
      "text/plain": [
       "channel\n",
       "mobile_push    5146976\n",
       "email          3966135\n",
       "Name: count, dtype: int64"
      ]
     },
     "execution_count": 58,
     "metadata": {},
     "output_type": "execute_result"
    }
   ],
   "source": [
    "df_messages['channel'].value_counts()"
   ]
  },
  {
   "cell_type": "code",
   "execution_count": 59,
   "id": "973b74e2",
   "metadata": {},
   "outputs": [
    {
     "data": {
      "image/png": "[encoded data removed]",
      "text/plain": [
       "<Figure size 500x300 with 1 Axes>"
      ]
     },
     "metadata": {},
     "output_type": "display_data"
    }
   ],
   "source": [
    "plt.figure(figsize=(5,3))\n",
    "sns.countplot(y=df_messages['channel'])\n",
    "plt.title(\"Диаграмма распределения по каналам рассылки\")\n",
    "plt.ylabel(\"Канал рассылки\")\n",
    "plt.xlabel('Количество')\n",
    "plt.show()"
   ]
  },
  {
   "cell_type": "markdown",
   "id": "6eb14f97",
   "metadata": {},
   "source": [
    "Самым частым каналом рекламной рассылки является mobile_push (мобильные уведомления)"
   ]
  },
  {
   "cell_type": "code",
   "execution_count": 60,
   "id": "803de80f",
   "metadata": {},
   "outputs": [
    {
     "data": {
      "text/plain": [
       "638"
      ]
     },
     "execution_count": 60,
     "metadata": {},
     "output_type": "execute_result"
    }
   ],
   "source": [
    "df_messages['date_action'].nunique()"
   ]
  },
  {
   "cell_type": "code",
   "execution_count": 61,
   "id": "002add10",
   "metadata": {},
   "outputs": [
    {
     "name": "stdout",
     "output_type": "stream",
     "text": [
      "Диапазон дат:\n",
      "2022-05-19 00:00:00\n",
      "2024-02-15 00:00:00\n"
     ]
    }
   ],
   "source": [
    "print(\"Диапазон дат:\")\n",
    "print(df_messages['date_action'].min())\n",
    "print(df_messages['date_action'].max())"
   ]
  },
  {
   "cell_type": "code",
   "execution_count": 62,
   "id": "50824d20",
   "metadata": {},
   "outputs": [
    {
     "data": {
      "image/png": "[encoded data removed]",
      "text/plain": [
       "<Figure size 640x480 with 1 Axes>"
      ]
     },
     "metadata": {},
     "output_type": "display_data"
    }
   ],
   "source": [
    "sns.countplot(x=pd.DatetimeIndex(df_messages['date_action']).year)\n",
    "plt.title(\"Диаграмма распределения рекламных рассылок по годам\")\n",
    "plt.xlabel(\"Год\")\n",
    "plt.ylabel('Количество')\n",
    "plt.show()"
   ]
  },
  {
   "cell_type": "markdown",
   "id": "6353ec3f",
   "metadata": {},
   "source": [
    "Больше всего рекламных рассылок было в 2023 году. Данные за 2024 представлены до 15.02.2024"
   ]
  },
  {
   "cell_type": "code",
   "execution_count": 63,
   "id": "92a4244a",
   "metadata": {},
   "outputs": [
    {
     "data": {
      "text/plain": [
       "49849"
      ]
     },
     "execution_count": 63,
     "metadata": {},
     "output_type": "execute_result"
    }
   ],
   "source": [
    "df_purchases['client_id'].nunique()"
   ]
  },
  {
   "cell_type": "code",
   "execution_count": 64,
   "id": "f06006a9",
   "metadata": {
    "scrolled": true
   },
   "outputs": [
    {
     "data": {
      "text/plain": [
       "(129100, 536)"
      ]
     },
     "execution_count": 64,
     "metadata": {},
     "output_type": "execute_result"
    }
   ],
   "source": [
    "df_purchases.shape"
   ]
  },
  {
   "cell_type": "markdown",
   "id": "47204537",
   "metadata": {},
   "source": [
    "В наборе данных количество записей больше чем количество клиентов, поэтому проведем агрегацию данных по клиенту"
   ]
  },
  {
   "cell_type": "code",
   "execution_count": 65,
   "id": "5c0ee244",
   "metadata": {},
   "outputs": [],
   "source": [
    "# Выберем колонки, по которым будем применять агрегирующую функцию\n",
    "columns = list(df_purchases.columns)\n",
    "columns.remove('client_id')\n",
    "columns.remove('date_buy')\n",
    "columns.remove('message_id')\n",
    "columns.remove('price')"
   ]
  },
  {
   "cell_type": "code",
   "execution_count": 66,
   "id": "9941aad5",
   "metadata": {},
   "outputs": [],
   "source": [
    "# Проведем разную агрегацую для разных колонок и объединим результат\n",
    "df_purch_agg = pd.concat(\n",
    "    [\n",
    "        df_purchases.pivot_table(index='client_id', values='date_buy', aggfunc='max'), \n",
    "        df_purchases.pivot_table(index='client_id', values=columns, aggfunc='sum'),\n",
    "        df_purchases.pivot_table(index='client_id', values='price', aggfunc='mean'),\n",
    "    ], \n",
    "    axis=1)"
   ]
  },
  {
   "cell_type": "code",
   "execution_count": 67,
   "id": "0a4be957",
   "metadata": {},
   "outputs": [],
   "source": [
    "df_purch_agg.reset_index(inplace=True)"
   ]
  },
  {
   "cell_type": "code",
   "execution_count": 68,
   "id": "027bd3e4",
   "metadata": {
    "scrolled": true
   },
   "outputs": [
    {
     "data": {
      "text/html": [
       "<div>\n",
       "<style scoped>\n",
       "    .dataframe tbody tr th:only-of-type {\n",
       "        vertical-align: middle;\n",
       "    }\n",
       "\n",
       "    .dataframe tbody tr th {\n",
       "        vertical-align: top;\n",
       "    }\n",
       "\n",
       "    .dataframe thead th {\n",
       "        text-align: right;\n",
       "    }\n",
       "</style>\n",
       "<table border=\"1\" class=\"dataframe\">\n",
       "  <thead>\n",
       "    <tr style=\"text-align: right;\">\n",
       "      <th></th>\n",
       "      <th>client_id</th>\n",
       "      <th>date_buy</th>\n",
       "      <th>cat_1006</th>\n",
       "      <th>cat_1009</th>\n",
       "      <th>cat_1010</th>\n",
       "      <th>cat_1014</th>\n",
       "      <th>cat_1037</th>\n",
       "      <th>cat_104</th>\n",
       "      <th>cat_107</th>\n",
       "      <th>cat_108</th>\n",
       "      <th>...</th>\n",
       "      <th>cat_905</th>\n",
       "      <th>cat_928</th>\n",
       "      <th>cat_934</th>\n",
       "      <th>cat_936</th>\n",
       "      <th>cat_938</th>\n",
       "      <th>cat_939</th>\n",
       "      <th>cat_966</th>\n",
       "      <th>cat_991</th>\n",
       "      <th>quantity</th>\n",
       "      <th>price</th>\n",
       "    </tr>\n",
       "  </thead>\n",
       "  <tbody>\n",
       "    <tr>\n",
       "      <th>0</th>\n",
       "      <td>1515915625468060902</td>\n",
       "      <td>2022-05-27</td>\n",
       "      <td>0</td>\n",
       "      <td>0</td>\n",
       "      <td>0</td>\n",
       "      <td>0</td>\n",
       "      <td>0</td>\n",
       "      <td>0</td>\n",
       "      <td>0</td>\n",
       "      <td>0</td>\n",
       "      <td>...</td>\n",
       "      <td>0</td>\n",
       "      <td>0</td>\n",
       "      <td>0</td>\n",
       "      <td>0</td>\n",
       "      <td>0</td>\n",
       "      <td>0</td>\n",
       "      <td>0</td>\n",
       "      <td>0</td>\n",
       "      <td>5</td>\n",
       "      <td>959.000000</td>\n",
       "    </tr>\n",
       "    <tr>\n",
       "      <th>1</th>\n",
       "      <td>1515915625468061003</td>\n",
       "      <td>2023-01-04</td>\n",
       "      <td>0</td>\n",
       "      <td>0</td>\n",
       "      <td>0</td>\n",
       "      <td>0</td>\n",
       "      <td>0</td>\n",
       "      <td>0</td>\n",
       "      <td>0</td>\n",
       "      <td>0</td>\n",
       "      <td>...</td>\n",
       "      <td>0</td>\n",
       "      <td>0</td>\n",
       "      <td>0</td>\n",
       "      <td>0</td>\n",
       "      <td>0</td>\n",
       "      <td>0</td>\n",
       "      <td>0</td>\n",
       "      <td>0</td>\n",
       "      <td>6</td>\n",
       "      <td>2355.833333</td>\n",
       "    </tr>\n",
       "    <tr>\n",
       "      <th>2</th>\n",
       "      <td>1515915625468061099</td>\n",
       "      <td>2022-05-17</td>\n",
       "      <td>0</td>\n",
       "      <td>0</td>\n",
       "      <td>0</td>\n",
       "      <td>0</td>\n",
       "      <td>0</td>\n",
       "      <td>0</td>\n",
       "      <td>0</td>\n",
       "      <td>0</td>\n",
       "      <td>...</td>\n",
       "      <td>0</td>\n",
       "      <td>0</td>\n",
       "      <td>0</td>\n",
       "      <td>0</td>\n",
       "      <td>0</td>\n",
       "      <td>0</td>\n",
       "      <td>0</td>\n",
       "      <td>0</td>\n",
       "      <td>1</td>\n",
       "      <td>299.000000</td>\n",
       "    </tr>\n",
       "  </tbody>\n",
       "</table>\n",
       "<p>3 rows × 535 columns</p>\n",
       "</div>"
      ],
      "text/plain": [
       "             client_id   date_buy  cat_1006  cat_1009  cat_1010  cat_1014   \n",
       "0  1515915625468060902 2022-05-27         0         0         0         0  \\\n",
       "1  1515915625468061003 2023-01-04         0         0         0         0   \n",
       "2  1515915625468061099 2022-05-17         0         0         0         0   \n",
       "\n",
       "   cat_1037  cat_104  cat_107  cat_108  ...  cat_905  cat_928  cat_934   \n",
       "0         0        0        0        0  ...        0        0        0  \\\n",
       "1         0        0        0        0  ...        0        0        0   \n",
       "2         0        0        0        0  ...        0        0        0   \n",
       "\n",
       "   cat_936  cat_938  cat_939  cat_966  cat_991  quantity        price  \n",
       "0        0        0        0        0        0         5   959.000000  \n",
       "1        0        0        0        0        0         6  2355.833333  \n",
       "2        0        0        0        0        0         1   299.000000  \n",
       "\n",
       "[3 rows x 535 columns]"
      ]
     },
     "execution_count": 68,
     "metadata": {},
     "output_type": "execute_result"
    }
   ],
   "source": [
    "df_purch_agg.head(3)"
   ]
  },
  {
   "cell_type": "code",
   "execution_count": 69,
   "id": "e86e183a",
   "metadata": {},
   "outputs": [
    {
     "data": {
      "text/plain": [
       "(49849, 535)"
      ]
     },
     "execution_count": 69,
     "metadata": {},
     "output_type": "execute_result"
    }
   ],
   "source": [
    "df_purch_agg.shape"
   ]
  },
  {
   "cell_type": "code",
   "execution_count": 70,
   "id": "7305c664",
   "metadata": {},
   "outputs": [],
   "source": [
    "# Создадим новый признак - разница в днях от максимальной даты\n",
    "df_purch_agg['num_days'] = (df_purch_agg['date_buy'].max() - df_purch_agg['date_buy']).dt.days"
   ]
  },
  {
   "cell_type": "code",
   "execution_count": 71,
   "id": "a0a53cc4",
   "metadata": {},
   "outputs": [
    {
     "data": {
      "image/png": "[encoded data removed]",
      "text/plain": [
       "<Figure size 700x700 with 2 Axes>"
      ]
     },
     "metadata": {},
     "output_type": "display_data"
    },
    {
     "name": "stdout",
     "output_type": "stream",
     "text": [
      "           num_days\n",
      "count  49849.000000\n",
      "mean     361.931593\n",
      "std      185.301691\n",
      "min        0.000000\n",
      "25%      233.000000\n",
      "50%      348.000000\n",
      "75%      542.000000\n",
      "max      641.000000\n"
     ]
    }
   ],
   "source": [
    "build_graph(df_purch_agg['num_days'], 'Количество дней')"
   ]
  },
  {
   "cell_type": "code",
   "execution_count": 72,
   "id": "4cc89f67",
   "metadata": {},
   "outputs": [],
   "source": [
    "# Для каждого типа события создадим отдельный столбец\n",
    "events = df_messages['event'].unique()\n",
    "for e in events:\n",
    "    df_messages[e] = df_messages['event'].apply(lambda x: 1 if x == e else 0)"
   ]
  },
  {
   "cell_type": "code",
   "execution_count": 73,
   "id": "d4857c0b",
   "metadata": {},
   "outputs": [],
   "source": [
    "# Для каждого типа канала создадим отдельный столбец\n",
    "channels = df_messages['channel'].unique()\n",
    "for c in channels:\n",
    "    df_messages[c] = df_messages['channel'].apply(lambda x: 1 if x == c else 0)"
   ]
  },
  {
   "cell_type": "code",
   "execution_count": 74,
   "id": "08aab4b2",
   "metadata": {},
   "outputs": [
    {
     "data": {
      "text/html": [
       "<div>\n",
       "<style scoped>\n",
       "    .dataframe tbody tr th:only-of-type {\n",
       "        vertical-align: middle;\n",
       "    }\n",
       "\n",
       "    .dataframe tbody tr th {\n",
       "        vertical-align: top;\n",
       "    }\n",
       "\n",
       "    .dataframe thead th {\n",
       "        text-align: right;\n",
       "    }\n",
       "</style>\n",
       "<table border=\"1\" class=\"dataframe\">\n",
       "  <thead>\n",
       "    <tr style=\"text-align: right;\">\n",
       "      <th></th>\n",
       "      <th>message_id</th>\n",
       "      <th>bulk_campaign_id</th>\n",
       "      <th>client_id</th>\n",
       "      <th>event</th>\n",
       "      <th>channel</th>\n",
       "      <th>date_action</th>\n",
       "      <th>send</th>\n",
       "      <th>open</th>\n",
       "      <th>click</th>\n",
       "      <th>unsubscribe</th>\n",
       "      <th>purchase</th>\n",
       "      <th>hard_bounce</th>\n",
       "      <th>soft_bounce</th>\n",
       "      <th>hbq_spam</th>\n",
       "      <th>complain</th>\n",
       "      <th>subscribe</th>\n",
       "      <th>close</th>\n",
       "      <th>email</th>\n",
       "      <th>mobile_push</th>\n",
       "    </tr>\n",
       "  </thead>\n",
       "  <tbody>\n",
       "    <tr>\n",
       "      <th>0</th>\n",
       "      <td>1515915625468060902-10022-63e5ededd911f</td>\n",
       "      <td>10022</td>\n",
       "      <td>1515915625468060902</td>\n",
       "      <td>send</td>\n",
       "      <td>email</td>\n",
       "      <td>2023-02-10</td>\n",
       "      <td>1</td>\n",
       "      <td>0</td>\n",
       "      <td>0</td>\n",
       "      <td>0</td>\n",
       "      <td>0</td>\n",
       "      <td>0</td>\n",
       "      <td>0</td>\n",
       "      <td>0</td>\n",
       "      <td>0</td>\n",
       "      <td>0</td>\n",
       "      <td>0</td>\n",
       "      <td>1</td>\n",
       "      <td>0</td>\n",
       "    </tr>\n",
       "    <tr>\n",
       "      <th>1</th>\n",
       "      <td>1515915625468060902-10218-63ef56ed94656</td>\n",
       "      <td>10218</td>\n",
       "      <td>1515915625468060902</td>\n",
       "      <td>send</td>\n",
       "      <td>email</td>\n",
       "      <td>2023-02-17</td>\n",
       "      <td>1</td>\n",
       "      <td>0</td>\n",
       "      <td>0</td>\n",
       "      <td>0</td>\n",
       "      <td>0</td>\n",
       "      <td>0</td>\n",
       "      <td>0</td>\n",
       "      <td>0</td>\n",
       "      <td>0</td>\n",
       "      <td>0</td>\n",
       "      <td>0</td>\n",
       "      <td>1</td>\n",
       "      <td>0</td>\n",
       "    </tr>\n",
       "    <tr>\n",
       "      <th>2</th>\n",
       "      <td>1515915625468060902-10289-63f35a8a9ff35</td>\n",
       "      <td>10289</td>\n",
       "      <td>1515915625468060902</td>\n",
       "      <td>send</td>\n",
       "      <td>email</td>\n",
       "      <td>2023-02-20</td>\n",
       "      <td>1</td>\n",
       "      <td>0</td>\n",
       "      <td>0</td>\n",
       "      <td>0</td>\n",
       "      <td>0</td>\n",
       "      <td>0</td>\n",
       "      <td>0</td>\n",
       "      <td>0</td>\n",
       "      <td>0</td>\n",
       "      <td>0</td>\n",
       "      <td>0</td>\n",
       "      <td>1</td>\n",
       "      <td>0</td>\n",
       "    </tr>\n",
       "  </tbody>\n",
       "</table>\n",
       "</div>"
      ],
      "text/plain": [
       "                                message_id  bulk_campaign_id   \n",
       "0  1515915625468060902-10022-63e5ededd911f             10022  \\\n",
       "1  1515915625468060902-10218-63ef56ed94656             10218   \n",
       "2  1515915625468060902-10289-63f35a8a9ff35             10289   \n",
       "\n",
       "             client_id event channel date_action  send  open  click   \n",
       "0  1515915625468060902  send   email  2023-02-10     1     0      0  \\\n",
       "1  1515915625468060902  send   email  2023-02-17     1     0      0   \n",
       "2  1515915625468060902  send   email  2023-02-20     1     0      0   \n",
       "\n",
       "   unsubscribe  purchase  hard_bounce  soft_bounce  hbq_spam  complain   \n",
       "0            0         0            0            0         0         0  \\\n",
       "1            0         0            0            0         0         0   \n",
       "2            0         0            0            0         0         0   \n",
       "\n",
       "   subscribe  close  email  mobile_push  \n",
       "0          0      0      1            0  \n",
       "1          0      0      1            0  \n",
       "2          0      0      1            0  "
      ]
     },
     "execution_count": 74,
     "metadata": {},
     "output_type": "execute_result"
    }
   ],
   "source": [
    "df_messages.head(3)"
   ]
  },
  {
   "cell_type": "code",
   "execution_count": 75,
   "id": "4bf26e7b",
   "metadata": {},
   "outputs": [],
   "source": [
    "# Выберем колонки, по которым будем применять агрегирующую функцию\n",
    "columns = list(df_messages.columns)\n",
    "columns.remove('message_id')\n",
    "columns.remove('bulk_campaign_id')\n",
    "columns.remove('event')\n",
    "columns.remove('channel')\n",
    "columns.remove('date_action')\n",
    "columns.remove('client_id')"
   ]
  },
  {
   "cell_type": "code",
   "execution_count": 76,
   "id": "269ab832",
   "metadata": {},
   "outputs": [],
   "source": [
    "df_mess_agg = df_messages.pivot_table(index='client_id', values=columns, aggfunc='sum').reset_index()"
   ]
  },
  {
   "cell_type": "code",
   "execution_count": 77,
   "id": "125802cd",
   "metadata": {},
   "outputs": [
    {
     "data": {
      "text/html": [
       "<div>\n",
       "<style scoped>\n",
       "    .dataframe tbody tr th:only-of-type {\n",
       "        vertical-align: middle;\n",
       "    }\n",
       "\n",
       "    .dataframe tbody tr th {\n",
       "        vertical-align: top;\n",
       "    }\n",
       "\n",
       "    .dataframe thead th {\n",
       "        text-align: right;\n",
       "    }\n",
       "</style>\n",
       "<table border=\"1\" class=\"dataframe\">\n",
       "  <thead>\n",
       "    <tr style=\"text-align: right;\">\n",
       "      <th></th>\n",
       "      <th>client_id</th>\n",
       "      <th>click</th>\n",
       "      <th>close</th>\n",
       "      <th>complain</th>\n",
       "      <th>email</th>\n",
       "      <th>hard_bounce</th>\n",
       "      <th>hbq_spam</th>\n",
       "      <th>mobile_push</th>\n",
       "      <th>open</th>\n",
       "      <th>purchase</th>\n",
       "      <th>send</th>\n",
       "      <th>soft_bounce</th>\n",
       "      <th>subscribe</th>\n",
       "      <th>unsubscribe</th>\n",
       "    </tr>\n",
       "  </thead>\n",
       "  <tbody>\n",
       "    <tr>\n",
       "      <th>0</th>\n",
       "      <td>1515915625468060902</td>\n",
       "      <td>4</td>\n",
       "      <td>0</td>\n",
       "      <td>0</td>\n",
       "      <td>127</td>\n",
       "      <td>0</td>\n",
       "      <td>0</td>\n",
       "      <td>0</td>\n",
       "      <td>27</td>\n",
       "      <td>1</td>\n",
       "      <td>94</td>\n",
       "      <td>0</td>\n",
       "      <td>0</td>\n",
       "      <td>1</td>\n",
       "    </tr>\n",
       "    <tr>\n",
       "      <th>1</th>\n",
       "      <td>1515915625468061003</td>\n",
       "      <td>3</td>\n",
       "      <td>0</td>\n",
       "      <td>0</td>\n",
       "      <td>154</td>\n",
       "      <td>0</td>\n",
       "      <td>0</td>\n",
       "      <td>0</td>\n",
       "      <td>1</td>\n",
       "      <td>1</td>\n",
       "      <td>149</td>\n",
       "      <td>0</td>\n",
       "      <td>0</td>\n",
       "      <td>0</td>\n",
       "    </tr>\n",
       "    <tr>\n",
       "      <th>2</th>\n",
       "      <td>1515915625468061099</td>\n",
       "      <td>6</td>\n",
       "      <td>0</td>\n",
       "      <td>0</td>\n",
       "      <td>158</td>\n",
       "      <td>2</td>\n",
       "      <td>0</td>\n",
       "      <td>61</td>\n",
       "      <td>44</td>\n",
       "      <td>0</td>\n",
       "      <td>167</td>\n",
       "      <td>0</td>\n",
       "      <td>0</td>\n",
       "      <td>0</td>\n",
       "    </tr>\n",
       "  </tbody>\n",
       "</table>\n",
       "</div>"
      ],
      "text/plain": [
       "             client_id  click  close  complain  email  hard_bounce  hbq_spam   \n",
       "0  1515915625468060902      4      0         0    127            0         0  \\\n",
       "1  1515915625468061003      3      0         0    154            0         0   \n",
       "2  1515915625468061099      6      0         0    158            2         0   \n",
       "\n",
       "   mobile_push  open  purchase  send  soft_bounce  subscribe  unsubscribe  \n",
       "0            0    27         1    94            0          0            1  \n",
       "1            0     1         1   149            0          0            0  \n",
       "2           61    44         0   167            0          0            0  "
      ]
     },
     "execution_count": 77,
     "metadata": {},
     "output_type": "execute_result"
    }
   ],
   "source": [
    "df_mess_agg.head(3)"
   ]
  },
  {
   "cell_type": "code",
   "execution_count": 78,
   "id": "39125a9a",
   "metadata": {},
   "outputs": [
    {
     "data": {
      "text/plain": [
       "(53329, 14)"
      ]
     },
     "execution_count": 78,
     "metadata": {},
     "output_type": "execute_result"
    }
   ],
   "source": [
    "df_mess_agg.shape"
   ]
  },
  {
   "cell_type": "markdown",
   "id": "300ae129",
   "metadata": {},
   "source": [
    "**Корреляционный анализ данных**"
   ]
  },
  {
   "cell_type": "markdown",
   "id": "c9d61662",
   "metadata": {},
   "source": [
    "Будем использовать корреляцию Спирмена, т.к. в данных есть ненормальное распределение и выбросы"
   ]
  },
  {
   "cell_type": "markdown",
   "id": "01fce7ef",
   "metadata": {},
   "source": [
    "**Корреляционный анализ агрегированных данных рассылки**"
   ]
  },
  {
   "cell_type": "code",
   "execution_count": 79,
   "id": "622e0534",
   "metadata": {},
   "outputs": [
    {
     "data": {
      "image/png": "[encoded data removed]",
      "text/plain": [
       "<Figure size 1000x700 with 2 Axes>"
      ]
     },
     "metadata": {},
     "output_type": "display_data"
    }
   ],
   "source": [
    "plt.figure(figsize=(10,7))\n",
    "sns.heatmap(\n",
    "    df_mess_agg.drop(columns='client_id').corr(method='spearman'), \n",
    "    cmap='coolwarm', \n",
    "    annot=True,\n",
    "    fmt='.2f').set(title=\"Тепловая карта матрицы корреляции Спирмена между признаками\")\n",
    "plt.show()"
   ]
  },
  {
   "cell_type": "markdown",
   "id": "c5462efe",
   "metadata": {},
   "source": [
    "Между признаками нет мультиколлинеарности"
   ]
  },
  {
   "cell_type": "markdown",
   "id": "1629814f",
   "metadata": {},
   "source": [
    "**Корреляционный анализ агрегированных данных о покупках клиентов**"
   ]
  },
  {
   "cell_type": "code",
   "execution_count": 80,
   "id": "38be945c",
   "metadata": {},
   "outputs": [],
   "source": [
    "corr_matrix = df_purch_agg.corr(method='spearman')"
   ]
  },
  {
   "cell_type": "markdown",
   "id": "ab51fc84",
   "metadata": {},
   "source": [
    "Проведем поиск мультиколленеарности между признаками. Если между признаками будет найдена мультиколлинеарность, то удалим один из них"
   ]
  },
  {
   "cell_type": "code",
   "execution_count": 81,
   "id": "f58089b4",
   "metadata": {},
   "outputs": [],
   "source": [
    "del_feat = set() # Набор признаков для удаления\n",
    "for element_1 in corr_matrix:\n",
    "    if element_1 in del_feat:\n",
    "        continue\n",
    "    for element_2 in corr_matrix:\n",
    "        if element_2 in del_feat:\n",
    "            continue\n",
    "        if element_1 != element_2:\n",
    "            if corr_matrix[element_1][element_2] >= 0.9:\n",
    "                del_feat.add(element_1)"
   ]
  },
  {
   "cell_type": "code",
   "execution_count": 82,
   "id": "fc548555",
   "metadata": {},
   "outputs": [
    {
     "data": {
      "text/plain": [
       "103"
      ]
     },
     "execution_count": 82,
     "metadata": {},
     "output_type": "execute_result"
    }
   ],
   "source": [
    "len(del_feat)"
   ]
  },
  {
   "cell_type": "code",
   "execution_count": 83,
   "id": "6e1bfafb",
   "metadata": {},
   "outputs": [],
   "source": [
    "df_purch_agg.drop(columns=del_feat, inplace=True)"
   ]
  },
  {
   "cell_type": "code",
   "execution_count": 84,
   "id": "21a2a49f",
   "metadata": {},
   "outputs": [
    {
     "data": {
      "text/plain": [
       "(49849, 433)"
      ]
     },
     "execution_count": 84,
     "metadata": {},
     "output_type": "execute_result"
    }
   ],
   "source": [
    "df_purch_agg.shape"
   ]
  },
  {
   "cell_type": "markdown",
   "id": "96202390",
   "metadata": {},
   "source": [
    "### Объединим датафреймы"
   ]
  },
  {
   "cell_type": "code",
   "execution_count": 85,
   "id": "28bf6ecf",
   "metadata": {},
   "outputs": [],
   "source": [
    "df_target = df_target.merge(df_mess_agg, on='client_id', how='left')"
   ]
  },
  {
   "cell_type": "code",
   "execution_count": 86,
   "id": "e136818e",
   "metadata": {},
   "outputs": [
    {
     "data": {
      "text/plain": [
       "client_id         0\n",
       "target            0\n",
       "click          7867\n",
       "close          7867\n",
       "complain       7867\n",
       "email          7867\n",
       "hard_bounce    7867\n",
       "hbq_spam       7867\n",
       "mobile_push    7867\n",
       "open           7867\n",
       "purchase       7867\n",
       "send           7867\n",
       "soft_bounce    7867\n",
       "subscribe      7867\n",
       "unsubscribe    7867\n",
       "dtype: int64"
      ]
     },
     "execution_count": 86,
     "metadata": {},
     "output_type": "execute_result"
    }
   ],
   "source": [
    "df_target.isnull().sum()"
   ]
  },
  {
   "cell_type": "markdown",
   "id": "a2b02dd9",
   "metadata": {},
   "source": [
    "Пропуски у тех клиентов, для которых не было рассылок. Заменим пропуски нулями."
   ]
  },
  {
   "cell_type": "code",
   "execution_count": 87,
   "id": "72314133",
   "metadata": {},
   "outputs": [],
   "source": [
    "df_target.fillna(value=0, inplace=True)"
   ]
  },
  {
   "cell_type": "code",
   "execution_count": 88,
   "id": "cd74f224",
   "metadata": {},
   "outputs": [],
   "source": [
    "df_target = df_target.merge(df_purch_agg, on='client_id', how='left')"
   ]
  },
  {
   "cell_type": "code",
   "execution_count": 89,
   "id": "ced93d00",
   "metadata": {},
   "outputs": [
    {
     "data": {
      "text/html": [
       "<div>\n",
       "<style scoped>\n",
       "    .dataframe tbody tr th:only-of-type {\n",
       "        vertical-align: middle;\n",
       "    }\n",
       "\n",
       "    .dataframe tbody tr th {\n",
       "        vertical-align: top;\n",
       "    }\n",
       "\n",
       "    .dataframe thead th {\n",
       "        text-align: right;\n",
       "    }\n",
       "</style>\n",
       "<table border=\"1\" class=\"dataframe\">\n",
       "  <thead>\n",
       "    <tr style=\"text-align: right;\">\n",
       "      <th></th>\n",
       "      <th>client_id</th>\n",
       "      <th>target</th>\n",
       "      <th>click</th>\n",
       "      <th>close</th>\n",
       "      <th>complain</th>\n",
       "      <th>email</th>\n",
       "      <th>hard_bounce</th>\n",
       "      <th>hbq_spam</th>\n",
       "      <th>mobile_push</th>\n",
       "      <th>open</th>\n",
       "      <th>...</th>\n",
       "      <th>cat_928</th>\n",
       "      <th>cat_934</th>\n",
       "      <th>cat_936</th>\n",
       "      <th>cat_938</th>\n",
       "      <th>cat_939</th>\n",
       "      <th>cat_966</th>\n",
       "      <th>cat_991</th>\n",
       "      <th>quantity</th>\n",
       "      <th>price</th>\n",
       "      <th>num_days</th>\n",
       "    </tr>\n",
       "  </thead>\n",
       "  <tbody>\n",
       "    <tr>\n",
       "      <th>0</th>\n",
       "      <td>1515915625468060902</td>\n",
       "      <td>0</td>\n",
       "      <td>4.0</td>\n",
       "      <td>0.0</td>\n",
       "      <td>0.0</td>\n",
       "      <td>127.0</td>\n",
       "      <td>0.0</td>\n",
       "      <td>0.0</td>\n",
       "      <td>0.0</td>\n",
       "      <td>27.0</td>\n",
       "      <td>...</td>\n",
       "      <td>0</td>\n",
       "      <td>0</td>\n",
       "      <td>0</td>\n",
       "      <td>0</td>\n",
       "      <td>0</td>\n",
       "      <td>0</td>\n",
       "      <td>0</td>\n",
       "      <td>5</td>\n",
       "      <td>959.000000</td>\n",
       "      <td>630</td>\n",
       "    </tr>\n",
       "    <tr>\n",
       "      <th>1</th>\n",
       "      <td>1515915625468061003</td>\n",
       "      <td>1</td>\n",
       "      <td>3.0</td>\n",
       "      <td>0.0</td>\n",
       "      <td>0.0</td>\n",
       "      <td>154.0</td>\n",
       "      <td>0.0</td>\n",
       "      <td>0.0</td>\n",
       "      <td>0.0</td>\n",
       "      <td>1.0</td>\n",
       "      <td>...</td>\n",
       "      <td>0</td>\n",
       "      <td>0</td>\n",
       "      <td>0</td>\n",
       "      <td>0</td>\n",
       "      <td>0</td>\n",
       "      <td>0</td>\n",
       "      <td>0</td>\n",
       "      <td>6</td>\n",
       "      <td>2355.833333</td>\n",
       "      <td>408</td>\n",
       "    </tr>\n",
       "    <tr>\n",
       "      <th>2</th>\n",
       "      <td>1515915625468061099</td>\n",
       "      <td>0</td>\n",
       "      <td>6.0</td>\n",
       "      <td>0.0</td>\n",
       "      <td>0.0</td>\n",
       "      <td>158.0</td>\n",
       "      <td>2.0</td>\n",
       "      <td>0.0</td>\n",
       "      <td>61.0</td>\n",
       "      <td>44.0</td>\n",
       "      <td>...</td>\n",
       "      <td>0</td>\n",
       "      <td>0</td>\n",
       "      <td>0</td>\n",
       "      <td>0</td>\n",
       "      <td>0</td>\n",
       "      <td>0</td>\n",
       "      <td>0</td>\n",
       "      <td>1</td>\n",
       "      <td>299.000000</td>\n",
       "      <td>640</td>\n",
       "    </tr>\n",
       "  </tbody>\n",
       "</table>\n",
       "<p>3 rows × 447 columns</p>\n",
       "</div>"
      ],
      "text/plain": [
       "             client_id  target  click  close  complain  email  hard_bounce   \n",
       "0  1515915625468060902       0    4.0    0.0       0.0  127.0          0.0  \\\n",
       "1  1515915625468061003       1    3.0    0.0       0.0  154.0          0.0   \n",
       "2  1515915625468061099       0    6.0    0.0       0.0  158.0          2.0   \n",
       "\n",
       "   hbq_spam  mobile_push  open  ...  cat_928  cat_934  cat_936  cat_938   \n",
       "0       0.0          0.0  27.0  ...        0        0        0        0  \\\n",
       "1       0.0          0.0   1.0  ...        0        0        0        0   \n",
       "2       0.0         61.0  44.0  ...        0        0        0        0   \n",
       "\n",
       "   cat_939 cat_966  cat_991  quantity        price  num_days  \n",
       "0        0       0        0         5   959.000000       630  \n",
       "1        0       0        0         6  2355.833333       408  \n",
       "2        0       0        0         1   299.000000       640  \n",
       "\n",
       "[3 rows x 447 columns]"
      ]
     },
     "execution_count": 89,
     "metadata": {},
     "output_type": "execute_result"
    }
   ],
   "source": [
    "df_target.head(3)"
   ]
  },
  {
   "cell_type": "code",
   "execution_count": 90,
   "id": "7af0a8f1",
   "metadata": {},
   "outputs": [
    {
     "data": {
      "text/plain": [
       "(49849, 447)"
      ]
     },
     "execution_count": 90,
     "metadata": {},
     "output_type": "execute_result"
    }
   ],
   "source": [
    "df_target.shape"
   ]
  },
  {
   "cell_type": "markdown",
   "id": "b17d4e82",
   "metadata": {},
   "source": [
    "### Обучение моделей"
   ]
  },
  {
   "cell_type": "markdown",
   "id": "08777b8e",
   "metadata": {},
   "source": [
    "#### Подготовка данных для обучения"
   ]
  },
  {
   "cell_type": "code",
   "execution_count": 91,
   "id": "29094514",
   "metadata": {},
   "outputs": [],
   "source": [
    "# Выберем все числовые признаки кроме 'client_id', 'target'\n",
    "num_columns = list(df_target.drop(columns=['client_id', 'target']).select_dtypes(include='number'))"
   ]
  },
  {
   "cell_type": "code",
   "execution_count": 92,
   "id": "d42ae14d",
   "metadata": {},
   "outputs": [],
   "source": [
    "# создаём общий пайплайн для подготовки данных\n",
    "data_preprocessor = ColumnTransformer(\n",
    "    [\n",
    "     ('num', StandardScaler(), num_columns)\n",
    "    ], \n",
    "    remainder='passthrough'\n",
    ")"
   ]
  },
  {
   "cell_type": "code",
   "execution_count": 93,
   "id": "6eee8136",
   "metadata": {},
   "outputs": [],
   "source": [
    "X = df_target[num_columns]\n",
    "y = df_target['target']"
   ]
  },
  {
   "cell_type": "code",
   "execution_count": 94,
   "id": "7ef35532",
   "metadata": {},
   "outputs": [
    {
     "data": {
      "text/html": [
       "<div>\n",
       "<style scoped>\n",
       "    .dataframe tbody tr th:only-of-type {\n",
       "        vertical-align: middle;\n",
       "    }\n",
       "\n",
       "    .dataframe tbody tr th {\n",
       "        vertical-align: top;\n",
       "    }\n",
       "\n",
       "    .dataframe thead th {\n",
       "        text-align: right;\n",
       "    }\n",
       "</style>\n",
       "<table border=\"1\" class=\"dataframe\">\n",
       "  <thead>\n",
       "    <tr style=\"text-align: right;\">\n",
       "      <th></th>\n",
       "      <th>click</th>\n",
       "      <th>close</th>\n",
       "      <th>complain</th>\n",
       "      <th>email</th>\n",
       "      <th>hard_bounce</th>\n",
       "      <th>hbq_spam</th>\n",
       "      <th>mobile_push</th>\n",
       "      <th>open</th>\n",
       "      <th>purchase</th>\n",
       "      <th>send</th>\n",
       "      <th>...</th>\n",
       "      <th>cat_928</th>\n",
       "      <th>cat_934</th>\n",
       "      <th>cat_936</th>\n",
       "      <th>cat_938</th>\n",
       "      <th>cat_939</th>\n",
       "      <th>cat_966</th>\n",
       "      <th>cat_991</th>\n",
       "      <th>quantity</th>\n",
       "      <th>price</th>\n",
       "      <th>num_days</th>\n",
       "    </tr>\n",
       "  </thead>\n",
       "  <tbody>\n",
       "    <tr>\n",
       "      <th>0</th>\n",
       "      <td>4.0</td>\n",
       "      <td>0.0</td>\n",
       "      <td>0.0</td>\n",
       "      <td>127.0</td>\n",
       "      <td>0.0</td>\n",
       "      <td>0.0</td>\n",
       "      <td>0.0</td>\n",
       "      <td>27.0</td>\n",
       "      <td>1.0</td>\n",
       "      <td>94.0</td>\n",
       "      <td>...</td>\n",
       "      <td>0</td>\n",
       "      <td>0</td>\n",
       "      <td>0</td>\n",
       "      <td>0</td>\n",
       "      <td>0</td>\n",
       "      <td>0</td>\n",
       "      <td>0</td>\n",
       "      <td>5</td>\n",
       "      <td>959.000000</td>\n",
       "      <td>630</td>\n",
       "    </tr>\n",
       "    <tr>\n",
       "      <th>1</th>\n",
       "      <td>3.0</td>\n",
       "      <td>0.0</td>\n",
       "      <td>0.0</td>\n",
       "      <td>154.0</td>\n",
       "      <td>0.0</td>\n",
       "      <td>0.0</td>\n",
       "      <td>0.0</td>\n",
       "      <td>1.0</td>\n",
       "      <td>1.0</td>\n",
       "      <td>149.0</td>\n",
       "      <td>...</td>\n",
       "      <td>0</td>\n",
       "      <td>0</td>\n",
       "      <td>0</td>\n",
       "      <td>0</td>\n",
       "      <td>0</td>\n",
       "      <td>0</td>\n",
       "      <td>0</td>\n",
       "      <td>6</td>\n",
       "      <td>2355.833333</td>\n",
       "      <td>408</td>\n",
       "    </tr>\n",
       "    <tr>\n",
       "      <th>2</th>\n",
       "      <td>6.0</td>\n",
       "      <td>0.0</td>\n",
       "      <td>0.0</td>\n",
       "      <td>158.0</td>\n",
       "      <td>2.0</td>\n",
       "      <td>0.0</td>\n",
       "      <td>61.0</td>\n",
       "      <td>44.0</td>\n",
       "      <td>0.0</td>\n",
       "      <td>167.0</td>\n",
       "      <td>...</td>\n",
       "      <td>0</td>\n",
       "      <td>0</td>\n",
       "      <td>0</td>\n",
       "      <td>0</td>\n",
       "      <td>0</td>\n",
       "      <td>0</td>\n",
       "      <td>0</td>\n",
       "      <td>1</td>\n",
       "      <td>299.000000</td>\n",
       "      <td>640</td>\n",
       "    </tr>\n",
       "  </tbody>\n",
       "</table>\n",
       "<p>3 rows × 444 columns</p>\n",
       "</div>"
      ],
      "text/plain": [
       "   click  close  complain  email  hard_bounce  hbq_spam  mobile_push  open   \n",
       "0    4.0    0.0       0.0  127.0          0.0       0.0          0.0  27.0  \\\n",
       "1    3.0    0.0       0.0  154.0          0.0       0.0          0.0   1.0   \n",
       "2    6.0    0.0       0.0  158.0          2.0       0.0         61.0  44.0   \n",
       "\n",
       "   purchase   send  ...  cat_928  cat_934  cat_936  cat_938  cat_939  cat_966   \n",
       "0       1.0   94.0  ...        0        0        0        0        0        0  \\\n",
       "1       1.0  149.0  ...        0        0        0        0        0        0   \n",
       "2       0.0  167.0  ...        0        0        0        0        0        0   \n",
       "\n",
       "   cat_991  quantity        price  num_days  \n",
       "0        0         5   959.000000       630  \n",
       "1        0         6  2355.833333       408  \n",
       "2        0         1   299.000000       640  \n",
       "\n",
       "[3 rows x 444 columns]"
      ]
     },
     "execution_count": 94,
     "metadata": {},
     "output_type": "execute_result"
    }
   ],
   "source": [
    "X.head(3)"
   ]
  },
  {
   "cell_type": "code",
   "execution_count": 95,
   "id": "3271f70c",
   "metadata": {},
   "outputs": [
    {
     "data": {
      "text/plain": [
       "(49849, 444)"
      ]
     },
     "execution_count": 95,
     "metadata": {},
     "output_type": "execute_result"
    }
   ],
   "source": [
    "X.shape"
   ]
  },
  {
   "cell_type": "code",
   "execution_count": 96,
   "id": "ff0bb536",
   "metadata": {},
   "outputs": [
    {
     "data": {
      "text/plain": [
       "(49849,)"
      ]
     },
     "execution_count": 96,
     "metadata": {},
     "output_type": "execute_result"
    }
   ],
   "source": [
    "y.shape"
   ]
  },
  {
   "cell_type": "code",
   "execution_count": 97,
   "id": "94a49021",
   "metadata": {},
   "outputs": [],
   "source": [
    "X_train, X_test, y_train, y_test = train_test_split(X, y, test_size=0.3, random_state=RANDOM_STATE, stratify=y)"
   ]
  },
  {
   "cell_type": "code",
   "execution_count": 98,
   "id": "212e29d2",
   "metadata": {},
   "outputs": [
    {
     "name": "stdout",
     "output_type": "stream",
     "text": [
      "(34894, 444)\n"
     ]
    },
    {
     "data": {
      "text/plain": [
       "(14955, 444)"
      ]
     },
     "execution_count": 98,
     "metadata": {},
     "output_type": "execute_result"
    }
   ],
   "source": [
    "print(X_train.shape)\n",
    "X_test.shape"
   ]
  },
  {
   "cell_type": "code",
   "execution_count": 99,
   "id": "fb63f813",
   "metadata": {},
   "outputs": [],
   "source": [
    "X_train_prep = data_preprocessor.fit_transform(X_train)"
   ]
  },
  {
   "cell_type": "code",
   "execution_count": 100,
   "id": "e56292fd",
   "metadata": {},
   "outputs": [],
   "source": [
    "X_test_prep = data_preprocessor.transform(X_test)"
   ]
  },
  {
   "cell_type": "markdown",
   "id": "4b0daeb5",
   "metadata": {},
   "source": [
    "#### Обучение модели RandomForest"
   ]
  },
  {
   "cell_type": "code",
   "execution_count": 101,
   "id": "5b802d15",
   "metadata": {},
   "outputs": [],
   "source": [
    "model_rfc = RandomForestClassifier(random_state=RANDOM_STATE)"
   ]
  },
  {
   "cell_type": "code",
   "execution_count": 102,
   "id": "76fa6fa0",
   "metadata": {},
   "outputs": [],
   "source": [
    "# Создадим словарь с гиперпараметрами:\n",
    "rfc_parameters = {\n",
    "    'n_estimators': [200, 300],\n",
    "    'max_depth': range(15, 20)\n",
    "}"
   ]
  },
  {
   "cell_type": "code",
   "execution_count": 103,
   "id": "c2c4765e",
   "metadata": {},
   "outputs": [],
   "source": [
    "# Инициализируем класс для автоматизированного поиска:\n",
    "# значение кросс-валидации 5 и n_jobs=-1.\n",
    "rfc_gs = GridSearchCV(model_rfc, rfc_parameters, cv=5, n_jobs=-1, scoring='roc_auc')"
   ]
  },
  {
   "cell_type": "code",
   "execution_count": 104,
   "id": "74433a6f",
   "metadata": {},
   "outputs": [
    {
     "name": "stdout",
     "output_type": "stream",
     "text": [
      "Wall time: 13min 43s\n"
     ]
    },
    {
     "data": {
      "text/html": [
       "<style>#sk-container-id-1 {\n",
       "  /* Definition of color scheme common for light and dark mode */\n",
       "  --sklearn-color-text: #000;\n",
       "  --sklearn-color-text-muted: #666;\n",
       "  --sklearn-color-line: gray;\n",
       "  /* Definition of color scheme for unfitted estimators */\n",
       "  --sklearn-color-unfitted-level-0: #fff5e6;\n",
       "  --sklearn-color-unfitted-level-1: #f6e4d2;\n",
       "  --sklearn-color-unfitted-level-2: #ffe0b3;\n",
       "  --sklearn-color-unfitted-level-3: chocolate;\n",
       "  /* Definition of color scheme for fitted estimators */\n",
       "  --sklearn-color-fitted-level-0: #f0f8ff;\n",
       "  --sklearn-color-fitted-level-1: #d4ebff;\n",
       "  --sklearn-color-fitted-level-2: #b3dbfd;\n",
       "  --sklearn-color-fitted-level-3: cornflowerblue;\n",
       "\n",
       "  /* Specific color for light theme */\n",
       "  --sklearn-color-text-on-default-background: var(--sg-text-color, var(--theme-code-foreground, var(--jp-content-font-color1, black)));\n",
       "  --sklearn-color-background: var(--sg-background-color, var(--theme-background, var(--jp-layout-color0, white)));\n",
       "  --sklearn-color-border-box: var(--sg-text-color, var(--theme-code-foreground, var(--jp-content-font-color1, black)));\n",
       "  --sklearn-color-icon: #696969;\n",
       "\n",
       "  @media (prefers-color-scheme: dark) {\n",
       "    /* Redefinition of color scheme for dark theme */\n",
       "    --sklearn-color-text-on-default-background: var(--sg-text-color, var(--theme-code-foreground, var(--jp-content-font-color1, white)));\n",
       "    --sklearn-color-background: var(--sg-background-color, var(--theme-background, var(--jp-layout-color0, #111)));\n",
       "    --sklearn-color-border-box: var(--sg-text-color, var(--theme-code-foreground, var(--jp-content-font-color1, white)));\n",
       "    --sklearn-color-icon: #878787;\n",
       "  }\n",
       "}\n",
       "\n",
       "#sk-container-id-1 {\n",
       "  color: var(--sklearn-color-text);\n",
       "}\n",
       "\n",
       "#sk-container-id-1 pre {\n",
       "  padding: 0;\n",
       "}\n",
       "\n",
       "#sk-container-id-1 input.sk-hidden--visually {\n",
       "  border: 0;\n",
       "  clip: rect(1px 1px 1px 1px);\n",
       "  clip: rect(1px, 1px, 1px, 1px);\n",
       "  height: 1px;\n",
       "  margin: -1px;\n",
       "  overflow: hidden;\n",
       "  padding: 0;\n",
       "  position: absolute;\n",
       "  width: 1px;\n",
       "}\n",
       "\n",
       "#sk-container-id-1 div.sk-dashed-wrapped {\n",
       "  border: 1px dashed var(--sklearn-color-line);\n",
       "  margin: 0 0.4em 0.5em 0.4em;\n",
       "  box-sizing: border-box;\n",
       "  padding-bottom: 0.4em;\n",
       "  background-color: var(--sklearn-color-background);\n",
       "}\n",
       "\n",
       "#sk-container-id-1 div.sk-container {\n",
       "  /* jupyter's `normalize.less` sets `[hidden] { display: none; }`\n",
       "     but bootstrap.min.css set `[hidden] { display: none !important; }`\n",
       "     so we also need the `!important` here to be able to override the\n",
       "     default hidden behavior on the sphinx rendered scikit-learn.org.\n",
       "     See: https://github.com/scikit-learn/scikit-learn/issues/21755 */\n",
       "  display: inline-block !important;\n",
       "  position: relative;\n",
       "}\n",
       "\n",
       "#sk-container-id-1 div.sk-text-repr-fallback {\n",
       "  display: none;\n",
       "}\n",
       "\n",
       "div.sk-parallel-item,\n",
       "div.sk-serial,\n",
       "div.sk-item {\n",
       "  /* draw centered vertical line to link estimators */\n",
       "  background-image: linear-gradient(var(--sklearn-color-text-on-default-background), var(--sklearn-color-text-on-default-background));\n",
       "  background-size: 2px 100%;\n",
       "  background-repeat: no-repeat;\n",
       "  background-position: center center;\n",
       "}\n",
       "\n",
       "/* Parallel-specific style estimator block */\n",
       "\n",
       "#sk-container-id-1 div.sk-parallel-item::after {\n",
       "  content: \"\";\n",
       "  width: 100%;\n",
       "  border-bottom: 2px solid var(--sklearn-color-text-on-default-background);\n",
       "  flex-grow: 1;\n",
       "}\n",
       "\n",
       "#sk-container-id-1 div.sk-parallel {\n",
       "  display: flex;\n",
       "  align-items: stretch;\n",
       "  justify-content: center;\n",
       "  background-color: var(--sklearn-color-background);\n",
       "  position: relative;\n",
       "}\n",
       "\n",
       "#sk-container-id-1 div.sk-parallel-item {\n",
       "  display: flex;\n",
       "  flex-direction: column;\n",
       "}\n",
       "\n",
       "#sk-container-id-1 div.sk-parallel-item:first-child::after {\n",
       "  align-self: flex-end;\n",
       "  width: 50%;\n",
       "}\n",
       "\n",
       "#sk-container-id-1 div.sk-parallel-item:last-child::after {\n",
       "  align-self: flex-start;\n",
       "  width: 50%;\n",
       "}\n",
       "\n",
       "#sk-container-id-1 div.sk-parallel-item:only-child::after {\n",
       "  width: 0;\n",
       "}\n",
       "\n",
       "/* Serial-specific style estimator block */\n",
       "\n",
       "#sk-container-id-1 div.sk-serial {\n",
       "  display: flex;\n",
       "  flex-direction: column;\n",
       "  align-items: center;\n",
       "  background-color: var(--sklearn-color-background);\n",
       "  padding-right: 1em;\n",
       "  padding-left: 1em;\n",
       "}\n",
       "\n",
       "\n",
       "/* Toggleable style: style used for estimator/Pipeline/ColumnTransformer box that is\n",
       "clickable and can be expanded/collapsed.\n",
       "- Pipeline and ColumnTransformer use this feature and define the default style\n",
       "- Estimators will overwrite some part of the style using the `sk-estimator` class\n",
       "*/\n",
       "\n",
       "/* Pipeline and ColumnTransformer style (default) */\n",
       "\n",
       "#sk-container-id-1 div.sk-toggleable {\n",
       "  /* Default theme specific background. It is overwritten whether we have a\n",
       "  specific estimator or a Pipeline/ColumnTransformer */\n",
       "  background-color: var(--sklearn-color-background);\n",
       "}\n",
       "\n",
       "/* Toggleable label */\n",
       "#sk-container-id-1 label.sk-toggleable__label {\n",
       "  cursor: pointer;\n",
       "  display: flex;\n",
       "  width: 100%;\n",
       "  margin-bottom: 0;\n",
       "  padding: 0.5em;\n",
       "  box-sizing: border-box;\n",
       "  text-align: center;\n",
       "  align-items: start;\n",
       "  justify-content: space-between;\n",
       "  gap: 0.5em;\n",
       "}\n",
       "\n",
       "#sk-container-id-1 label.sk-toggleable__label .caption {\n",
       "  font-size: 0.6rem;\n",
       "  font-weight: lighter;\n",
       "  color: var(--sklearn-color-text-muted);\n",
       "}\n",
       "\n",
       "#sk-container-id-1 label.sk-toggleable__label-arrow:before {\n",
       "  /* Arrow on the left of the label */\n",
       "  content: \"▸\";\n",
       "  float: left;\n",
       "  margin-right: 0.25em;\n",
       "  color: var(--sklearn-color-icon);\n",
       "}\n",
       "\n",
       "#sk-container-id-1 label.sk-toggleable__label-arrow:hover:before {\n",
       "  color: var(--sklearn-color-text);\n",
       "}\n",
       "\n",
       "/* Toggleable content - dropdown */\n",
       "\n",
       "#sk-container-id-1 div.sk-toggleable__content {\n",
       "  max-height: 0;\n",
       "  max-width: 0;\n",
       "  overflow: hidden;\n",
       "  text-align: left;\n",
       "  /* unfitted */\n",
       "  background-color: var(--sklearn-color-unfitted-level-0);\n",
       "}\n",
       "\n",
       "#sk-container-id-1 div.sk-toggleable__content.fitted {\n",
       "  /* fitted */\n",
       "  background-color: var(--sklearn-color-fitted-level-0);\n",
       "}\n",
       "\n",
       "#sk-container-id-1 div.sk-toggleable__content pre {\n",
       "  margin: 0.2em;\n",
       "  border-radius: 0.25em;\n",
       "  color: var(--sklearn-color-text);\n",
       "  /* unfitted */\n",
       "  background-color: var(--sklearn-color-unfitted-level-0);\n",
       "}\n",
       "\n",
       "#sk-container-id-1 div.sk-toggleable__content.fitted pre {\n",
       "  /* unfitted */\n",
       "  background-color: var(--sklearn-color-fitted-level-0);\n",
       "}\n",
       "\n",
       "#sk-container-id-1 input.sk-toggleable__control:checked~div.sk-toggleable__content {\n",
       "  /* Expand drop-down */\n",
       "  max-height: 200px;\n",
       "  max-width: 100%;\n",
       "  overflow: auto;\n",
       "}\n",
       "\n",
       "#sk-container-id-1 input.sk-toggleable__control:checked~label.sk-toggleable__label-arrow:before {\n",
       "  content: \"▾\";\n",
       "}\n",
       "\n",
       "/* Pipeline/ColumnTransformer-specific style */\n",
       "\n",
       "#sk-container-id-1 div.sk-label input.sk-toggleable__control:checked~label.sk-toggleable__label {\n",
       "  color: var(--sklearn-color-text);\n",
       "  background-color: var(--sklearn-color-unfitted-level-2);\n",
       "}\n",
       "\n",
       "#sk-container-id-1 div.sk-label.fitted input.sk-toggleable__control:checked~label.sk-toggleable__label {\n",
       "  background-color: var(--sklearn-color-fitted-level-2);\n",
       "}\n",
       "\n",
       "/* Estimator-specific style */\n",
       "\n",
       "/* Colorize estimator box */\n",
       "#sk-container-id-1 div.sk-estimator input.sk-toggleable__control:checked~label.sk-toggleable__label {\n",
       "  /* unfitted */\n",
       "  background-color: var(--sklearn-color-unfitted-level-2);\n",
       "}\n",
       "\n",
       "#sk-container-id-1 div.sk-estimator.fitted input.sk-toggleable__control:checked~label.sk-toggleable__label {\n",
       "  /* fitted */\n",
       "  background-color: var(--sklearn-color-fitted-level-2);\n",
       "}\n",
       "\n",
       "#sk-container-id-1 div.sk-label label.sk-toggleable__label,\n",
       "#sk-container-id-1 div.sk-label label {\n",
       "  /* The background is the default theme color */\n",
       "  color: var(--sklearn-color-text-on-default-background);\n",
       "}\n",
       "\n",
       "/* On hover, darken the color of the background */\n",
       "#sk-container-id-1 div.sk-label:hover label.sk-toggleable__label {\n",
       "  color: var(--sklearn-color-text);\n",
       "  background-color: var(--sklearn-color-unfitted-level-2);\n",
       "}\n",
       "\n",
       "/* Label box, darken color on hover, fitted */\n",
       "#sk-container-id-1 div.sk-label.fitted:hover label.sk-toggleable__label.fitted {\n",
       "  color: var(--sklearn-color-text);\n",
       "  background-color: var(--sklearn-color-fitted-level-2);\n",
       "}\n",
       "\n",
       "/* Estimator label */\n",
       "\n",
       "#sk-container-id-1 div.sk-label label {\n",
       "  font-family: monospace;\n",
       "  font-weight: bold;\n",
       "  display: inline-block;\n",
       "  line-height: 1.2em;\n",
       "}\n",
       "\n",
       "#sk-container-id-1 div.sk-label-container {\n",
       "  text-align: center;\n",
       "}\n",
       "\n",
       "/* Estimator-specific */\n",
       "#sk-container-id-1 div.sk-estimator {\n",
       "  font-family: monospace;\n",
       "  border: 1px dotted var(--sklearn-color-border-box);\n",
       "  border-radius: 0.25em;\n",
       "  box-sizing: border-box;\n",
       "  margin-bottom: 0.5em;\n",
       "  /* unfitted */\n",
       "  background-color: var(--sklearn-color-unfitted-level-0);\n",
       "}\n",
       "\n",
       "#sk-container-id-1 div.sk-estimator.fitted {\n",
       "  /* fitted */\n",
       "  background-color: var(--sklearn-color-fitted-level-0);\n",
       "}\n",
       "\n",
       "/* on hover */\n",
       "#sk-container-id-1 div.sk-estimator:hover {\n",
       "  /* unfitted */\n",
       "  background-color: var(--sklearn-color-unfitted-level-2);\n",
       "}\n",
       "\n",
       "#sk-container-id-1 div.sk-estimator.fitted:hover {\n",
       "  /* fitted */\n",
       "  background-color: var(--sklearn-color-fitted-level-2);\n",
       "}\n",
       "\n",
       "/* Specification for estimator info (e.g. \"i\" and \"?\") */\n",
       "\n",
       "/* Common style for \"i\" and \"?\" */\n",
       "\n",
       ".sk-estimator-doc-link,\n",
       "a:link.sk-estimator-doc-link,\n",
       "a:visited.sk-estimator-doc-link {\n",
       "  float: right;\n",
       "  font-size: smaller;\n",
       "  line-height: 1em;\n",
       "  font-family: monospace;\n",
       "  background-color: var(--sklearn-color-background);\n",
       "  border-radius: 1em;\n",
       "  height: 1em;\n",
       "  width: 1em;\n",
       "  text-decoration: none !important;\n",
       "  margin-left: 0.5em;\n",
       "  text-align: center;\n",
       "  /* unfitted */\n",
       "  border: var(--sklearn-color-unfitted-level-1) 1pt solid;\n",
       "  color: var(--sklearn-color-unfitted-level-1);\n",
       "}\n",
       "\n",
       ".sk-estimator-doc-link.fitted,\n",
       "a:link.sk-estimator-doc-link.fitted,\n",
       "a:visited.sk-estimator-doc-link.fitted {\n",
       "  /* fitted */\n",
       "  border: var(--sklearn-color-fitted-level-1) 1pt solid;\n",
       "  color: var(--sklearn-color-fitted-level-1);\n",
       "}\n",
       "\n",
       "/* On hover */\n",
       "div.sk-estimator:hover .sk-estimator-doc-link:hover,\n",
       ".sk-estimator-doc-link:hover,\n",
       "div.sk-label-container:hover .sk-estimator-doc-link:hover,\n",
       ".sk-estimator-doc-link:hover {\n",
       "  /* unfitted */\n",
       "  background-color: var(--sklearn-color-unfitted-level-3);\n",
       "  color: var(--sklearn-color-background);\n",
       "  text-decoration: none;\n",
       "}\n",
       "\n",
       "div.sk-estimator.fitted:hover .sk-estimator-doc-link.fitted:hover,\n",
       ".sk-estimator-doc-link.fitted:hover,\n",
       "div.sk-label-container:hover .sk-estimator-doc-link.fitted:hover,\n",
       ".sk-estimator-doc-link.fitted:hover {\n",
       "  /* fitted */\n",
       "  background-color: var(--sklearn-color-fitted-level-3);\n",
       "  color: var(--sklearn-color-background);\n",
       "  text-decoration: none;\n",
       "}\n",
       "\n",
       "/* Span, style for the box shown on hovering the info icon */\n",
       ".sk-estimator-doc-link span {\n",
       "  display: none;\n",
       "  z-index: 9999;\n",
       "  position: relative;\n",
       "  font-weight: normal;\n",
       "  right: .2ex;\n",
       "  padding: .5ex;\n",
       "  margin: .5ex;\n",
       "  width: min-content;\n",
       "  min-width: 20ex;\n",
       "  max-width: 50ex;\n",
       "  color: var(--sklearn-color-text);\n",
       "  box-shadow: 2pt 2pt 4pt #999;\n",
       "  /* unfitted */\n",
       "  background: var(--sklearn-color-unfitted-level-0);\n",
       "  border: .5pt solid var(--sklearn-color-unfitted-level-3);\n",
       "}\n",
       "\n",
       ".sk-estimator-doc-link.fitted span {\n",
       "  /* fitted */\n",
       "  background: var(--sklearn-color-fitted-level-0);\n",
       "  border: var(--sklearn-color-fitted-level-3);\n",
       "}\n",
       "\n",
       ".sk-estimator-doc-link:hover span {\n",
       "  display: block;\n",
       "}\n",
       "\n",
       "/* \"?\"-specific style due to the `<a>` HTML tag */\n",
       "\n",
       "#sk-container-id-1 a.estimator_doc_link {\n",
       "  float: right;\n",
       "  font-size: 1rem;\n",
       "  line-height: 1em;\n",
       "  font-family: monospace;\n",
       "  background-color: var(--sklearn-color-background);\n",
       "  border-radius: 1rem;\n",
       "  height: 1rem;\n",
       "  width: 1rem;\n",
       "  text-decoration: none;\n",
       "  /* unfitted */\n",
       "  color: var(--sklearn-color-unfitted-level-1);\n",
       "  border: var(--sklearn-color-unfitted-level-1) 1pt solid;\n",
       "}\n",
       "\n",
       "#sk-container-id-1 a.estimator_doc_link.fitted {\n",
       "  /* fitted */\n",
       "  border: var(--sklearn-color-fitted-level-1) 1pt solid;\n",
       "  color: var(--sklearn-color-fitted-level-1);\n",
       "}\n",
       "\n",
       "/* On hover */\n",
       "#sk-container-id-1 a.estimator_doc_link:hover {\n",
       "  /* unfitted */\n",
       "  background-color: var(--sklearn-color-unfitted-level-3);\n",
       "  color: var(--sklearn-color-background);\n",
       "  text-decoration: none;\n",
       "}\n",
       "\n",
       "#sk-container-id-1 a.estimator_doc_link.fitted:hover {\n",
       "  /* fitted */\n",
       "  background-color: var(--sklearn-color-fitted-level-3);\n",
       "}\n",
       "</style><div id=\"sk-container-id-1\" class=\"sk-top-container\"><div class=\"sk-text-repr-fallback\"><pre>GridSearchCV(cv=5, estimator=RandomForestClassifier(random_state=10), n_jobs=-1,\n",
       "             param_grid={&#x27;max_depth&#x27;: range(15, 20),\n",
       "                         &#x27;n_estimators&#x27;: [200, 300]},\n",
       "             scoring=&#x27;roc_auc&#x27;)</pre><b>In a Jupyter environment, please rerun this cell to show the HTML representation or trust the notebook. <br />On GitHub, the HTML representation is unable to render, please try loading this page with nbviewer.org.</b></div><div class=\"sk-container\" hidden><div class=\"sk-item sk-dashed-wrapped\"><div class=\"sk-label-container\"><div class=\"sk-label fitted sk-toggleable\"><input class=\"sk-toggleable__control sk-hidden--visually\" id=\"sk-estimator-id-1\" type=\"checkbox\" ><label for=\"sk-estimator-id-1\" class=\"sk-toggleable__label fitted sk-toggleable__label-arrow\"><div><div>GridSearchCV</div></div><div><a class=\"sk-estimator-doc-link fitted\" rel=\"noreferrer\" target=\"_blank\" href=\"https://scikit-learn.org/1.6/modules/generated/sklearn.model_selection.GridSearchCV.html\">?<span>Documentation for GridSearchCV</span></a><span class=\"sk-estimator-doc-link fitted\">i<span>Fitted</span></span></div></label><div class=\"sk-toggleable__content fitted\"><pre>GridSearchCV(cv=5, estimator=RandomForestClassifier(random_state=10), n_jobs=-1,\n",
       "             param_grid={&#x27;max_depth&#x27;: range(15, 20),\n",
       "                         &#x27;n_estimators&#x27;: [200, 300]},\n",
       "             scoring=&#x27;roc_auc&#x27;)</pre></div> </div></div><div class=\"sk-parallel\"><div class=\"sk-parallel-item\"><div class=\"sk-item\"><div class=\"sk-label-container\"><div class=\"sk-label fitted sk-toggleable\"><input class=\"sk-toggleable__control sk-hidden--visually\" id=\"sk-estimator-id-2\" type=\"checkbox\" ><label for=\"sk-estimator-id-2\" class=\"sk-toggleable__label fitted sk-toggleable__label-arrow\"><div><div>best_estimator_: RandomForestClassifier</div></div></label><div class=\"sk-toggleable__content fitted\"><pre>RandomForestClassifier(max_depth=19, n_estimators=300, random_state=10)</pre></div> </div></div><div class=\"sk-serial\"><div class=\"sk-item\"><div class=\"sk-estimator fitted sk-toggleable\"><input class=\"sk-toggleable__control sk-hidden--visually\" id=\"sk-estimator-id-3\" type=\"checkbox\" ><label for=\"sk-estimator-id-3\" class=\"sk-toggleable__label fitted sk-toggleable__label-arrow\"><div><div>RandomForestClassifier</div></div><div><a class=\"sk-estimator-doc-link fitted\" rel=\"noreferrer\" target=\"_blank\" href=\"https://scikit-learn.org/1.6/modules/generated/sklearn.ensemble.RandomForestClassifier.html\">?<span>Documentation for RandomForestClassifier</span></a></div></label><div class=\"sk-toggleable__content fitted\"><pre>RandomForestClassifier(max_depth=19, n_estimators=300, random_state=10)</pre></div> </div></div></div></div></div></div></div></div></div>"
      ],
      "text/plain": [
       "GridSearchCV(cv=5, estimator=RandomForestClassifier(random_state=10), n_jobs=-1,\n",
       "             param_grid={'max_depth': range(15, 20),\n",
       "                         'n_estimators': [200, 300]},\n",
       "             scoring='roc_auc')"
      ]
     },
     "execution_count": 104,
     "metadata": {},
     "output_type": "execute_result"
    }
   ],
   "source": [
    "# Запустим поиск гиперпараметров\n",
    "%time rfc_gs.fit(X_train_prep, y_train)"
   ]
  },
  {
   "cell_type": "code",
   "execution_count": 105,
   "id": "eb795c9a",
   "metadata": {},
   "outputs": [
    {
     "name": "stdout",
     "output_type": "stream",
     "text": [
      "Лучшие гиперпараметры {'max_depth': 19, 'n_estimators': 300}\n",
      "Лучшая метрика по кросс-вадидации 0.7417674032516842\n"
     ]
    }
   ],
   "source": [
    "print(\"Лучшие гиперпараметры\", rfc_gs.best_params_)\n",
    "print(\"Лучшая метрика по кросс-вадидации\", rfc_gs.best_score_)"
   ]
  },
  {
   "cell_type": "markdown",
   "id": "bf18e5d7",
   "metadata": {},
   "source": [
    "#### Обучение модели CatBoost"
   ]
  },
  {
   "cell_type": "code",
   "execution_count": 106,
   "id": "b7939e6c",
   "metadata": {},
   "outputs": [],
   "source": [
    "cb_model = CatBoostClassifier(\n",
    "            random_seed = RANDOM_STATE,\n",
    "            verbose=False\n",
    ")"
   ]
  },
  {
   "cell_type": "code",
   "execution_count": 107,
   "id": "35df2be9",
   "metadata": {},
   "outputs": [],
   "source": [
    "# Создадим словарь с гиперпараметрами:\n",
    "cb_parameters = {\n",
    "    'iterations': [500, 1000],\n",
    "    'learning_rate': [0.02, 0.05],\n",
    "    'depth': [8, 10]\n",
    "}"
   ]
  },
  {
   "cell_type": "code",
   "execution_count": 108,
   "id": "3d4387ef",
   "metadata": {},
   "outputs": [],
   "source": [
    "# Инициализируем класс для автоматизированного поиска:\n",
    "# значение кросс-валидации 5 и n_jobs=-1.\n",
    "cb_gs = GridSearchCV(cb_model, cb_parameters, cv=5, n_jobs=-1, scoring='roc_auc')"
   ]
  },
  {
   "cell_type": "code",
   "execution_count": 109,
   "id": "cb952ca8",
   "metadata": {},
   "outputs": [
    {
     "name": "stdout",
     "output_type": "stream",
     "text": [
      "Wall time: 38min 31s\n"
     ]
    },
    {
     "data": {
      "text/html": [
       "<style>#sk-container-id-2 {\n",
       "  /* Definition of color scheme common for light and dark mode */\n",
       "  --sklearn-color-text: #000;\n",
       "  --sklearn-color-text-muted: #666;\n",
       "  --sklearn-color-line: gray;\n",
       "  /* Definition of color scheme for unfitted estimators */\n",
       "  --sklearn-color-unfitted-level-0: #fff5e6;\n",
       "  --sklearn-color-unfitted-level-1: #f6e4d2;\n",
       "  --sklearn-color-unfitted-level-2: #ffe0b3;\n",
       "  --sklearn-color-unfitted-level-3: chocolate;\n",
       "  /* Definition of color scheme for fitted estimators */\n",
       "  --sklearn-color-fitted-level-0: #f0f8ff;\n",
       "  --sklearn-color-fitted-level-1: #d4ebff;\n",
       "  --sklearn-color-fitted-level-2: #b3dbfd;\n",
       "  --sklearn-color-fitted-level-3: cornflowerblue;\n",
       "\n",
       "  /* Specific color for light theme */\n",
       "  --sklearn-color-text-on-default-background: var(--sg-text-color, var(--theme-code-foreground, var(--jp-content-font-color1, black)));\n",
       "  --sklearn-color-background: var(--sg-background-color, var(--theme-background, var(--jp-layout-color0, white)));\n",
       "  --sklearn-color-border-box: var(--sg-text-color, var(--theme-code-foreground, var(--jp-content-font-color1, black)));\n",
       "  --sklearn-color-icon: #696969;\n",
       "\n",
       "  @media (prefers-color-scheme: dark) {\n",
       "    /* Redefinition of color scheme for dark theme */\n",
       "    --sklearn-color-text-on-default-background: var(--sg-text-color, var(--theme-code-foreground, var(--jp-content-font-color1, white)));\n",
       "    --sklearn-color-background: var(--sg-background-color, var(--theme-background, var(--jp-layout-color0, #111)));\n",
       "    --sklearn-color-border-box: var(--sg-text-color, var(--theme-code-foreground, var(--jp-content-font-color1, white)));\n",
       "    --sklearn-color-icon: #878787;\n",
       "  }\n",
       "}\n",
       "\n",
       "#sk-container-id-2 {\n",
       "  color: var(--sklearn-color-text);\n",
       "}\n",
       "\n",
       "#sk-container-id-2 pre {\n",
       "  padding: 0;\n",
       "}\n",
       "\n",
       "#sk-container-id-2 input.sk-hidden--visually {\n",
       "  border: 0;\n",
       "  clip: rect(1px 1px 1px 1px);\n",
       "  clip: rect(1px, 1px, 1px, 1px);\n",
       "  height: 1px;\n",
       "  margin: -1px;\n",
       "  overflow: hidden;\n",
       "  padding: 0;\n",
       "  position: absolute;\n",
       "  width: 1px;\n",
       "}\n",
       "\n",
       "#sk-container-id-2 div.sk-dashed-wrapped {\n",
       "  border: 1px dashed var(--sklearn-color-line);\n",
       "  margin: 0 0.4em 0.5em 0.4em;\n",
       "  box-sizing: border-box;\n",
       "  padding-bottom: 0.4em;\n",
       "  background-color: var(--sklearn-color-background);\n",
       "}\n",
       "\n",
       "#sk-container-id-2 div.sk-container {\n",
       "  /* jupyter's `normalize.less` sets `[hidden] { display: none; }`\n",
       "     but bootstrap.min.css set `[hidden] { display: none !important; }`\n",
       "     so we also need the `!important` here to be able to override the\n",
       "     default hidden behavior on the sphinx rendered scikit-learn.org.\n",
       "     See: https://github.com/scikit-learn/scikit-learn/issues/21755 */\n",
       "  display: inline-block !important;\n",
       "  position: relative;\n",
       "}\n",
       "\n",
       "#sk-container-id-2 div.sk-text-repr-fallback {\n",
       "  display: none;\n",
       "}\n",
       "\n",
       "div.sk-parallel-item,\n",
       "div.sk-serial,\n",
       "div.sk-item {\n",
       "  /* draw centered vertical line to link estimators */\n",
       "  background-image: linear-gradient(var(--sklearn-color-text-on-default-background), var(--sklearn-color-text-on-default-background));\n",
       "  background-size: 2px 100%;\n",
       "  background-repeat: no-repeat;\n",
       "  background-position: center center;\n",
       "}\n",
       "\n",
       "/* Parallel-specific style estimator block */\n",
       "\n",
       "#sk-container-id-2 div.sk-parallel-item::after {\n",
       "  content: \"\";\n",
       "  width: 100%;\n",
       "  border-bottom: 2px solid var(--sklearn-color-text-on-default-background);\n",
       "  flex-grow: 1;\n",
       "}\n",
       "\n",
       "#sk-container-id-2 div.sk-parallel {\n",
       "  display: flex;\n",
       "  align-items: stretch;\n",
       "  justify-content: center;\n",
       "  background-color: var(--sklearn-color-background);\n",
       "  position: relative;\n",
       "}\n",
       "\n",
       "#sk-container-id-2 div.sk-parallel-item {\n",
       "  display: flex;\n",
       "  flex-direction: column;\n",
       "}\n",
       "\n",
       "#sk-container-id-2 div.sk-parallel-item:first-child::after {\n",
       "  align-self: flex-end;\n",
       "  width: 50%;\n",
       "}\n",
       "\n",
       "#sk-container-id-2 div.sk-parallel-item:last-child::after {\n",
       "  align-self: flex-start;\n",
       "  width: 50%;\n",
       "}\n",
       "\n",
       "#sk-container-id-2 div.sk-parallel-item:only-child::after {\n",
       "  width: 0;\n",
       "}\n",
       "\n",
       "/* Serial-specific style estimator block */\n",
       "\n",
       "#sk-container-id-2 div.sk-serial {\n",
       "  display: flex;\n",
       "  flex-direction: column;\n",
       "  align-items: center;\n",
       "  background-color: var(--sklearn-color-background);\n",
       "  padding-right: 1em;\n",
       "  padding-left: 1em;\n",
       "}\n",
       "\n",
       "\n",
       "/* Toggleable style: style used for estimator/Pipeline/ColumnTransformer box that is\n",
       "clickable and can be expanded/collapsed.\n",
       "- Pipeline and ColumnTransformer use this feature and define the default style\n",
       "- Estimators will overwrite some part of the style using the `sk-estimator` class\n",
       "*/\n",
       "\n",
       "/* Pipeline and ColumnTransformer style (default) */\n",
       "\n",
       "#sk-container-id-2 div.sk-toggleable {\n",
       "  /* Default theme specific background. It is overwritten whether we have a\n",
       "  specific estimator or a Pipeline/ColumnTransformer */\n",
       "  background-color: var(--sklearn-color-background);\n",
       "}\n",
       "\n",
       "/* Toggleable label */\n",
       "#sk-container-id-2 label.sk-toggleable__label {\n",
       "  cursor: pointer;\n",
       "  display: flex;\n",
       "  width: 100%;\n",
       "  margin-bottom: 0;\n",
       "  padding: 0.5em;\n",
       "  box-sizing: border-box;\n",
       "  text-align: center;\n",
       "  align-items: start;\n",
       "  justify-content: space-between;\n",
       "  gap: 0.5em;\n",
       "}\n",
       "\n",
       "#sk-container-id-2 label.sk-toggleable__label .caption {\n",
       "  font-size: 0.6rem;\n",
       "  font-weight: lighter;\n",
       "  color: var(--sklearn-color-text-muted);\n",
       "}\n",
       "\n",
       "#sk-container-id-2 label.sk-toggleable__label-arrow:before {\n",
       "  /* Arrow on the left of the label */\n",
       "  content: \"▸\";\n",
       "  float: left;\n",
       "  margin-right: 0.25em;\n",
       "  color: var(--sklearn-color-icon);\n",
       "}\n",
       "\n",
       "#sk-container-id-2 label.sk-toggleable__label-arrow:hover:before {\n",
       "  color: var(--sklearn-color-text);\n",
       "}\n",
       "\n",
       "/* Toggleable content - dropdown */\n",
       "\n",
       "#sk-container-id-2 div.sk-toggleable__content {\n",
       "  max-height: 0;\n",
       "  max-width: 0;\n",
       "  overflow: hidden;\n",
       "  text-align: left;\n",
       "  /* unfitted */\n",
       "  background-color: var(--sklearn-color-unfitted-level-0);\n",
       "}\n",
       "\n",
       "#sk-container-id-2 div.sk-toggleable__content.fitted {\n",
       "  /* fitted */\n",
       "  background-color: var(--sklearn-color-fitted-level-0);\n",
       "}\n",
       "\n",
       "#sk-container-id-2 div.sk-toggleable__content pre {\n",
       "  margin: 0.2em;\n",
       "  border-radius: 0.25em;\n",
       "  color: var(--sklearn-color-text);\n",
       "  /* unfitted */\n",
       "  background-color: var(--sklearn-color-unfitted-level-0);\n",
       "}\n",
       "\n",
       "#sk-container-id-2 div.sk-toggleable__content.fitted pre {\n",
       "  /* unfitted */\n",
       "  background-color: var(--sklearn-color-fitted-level-0);\n",
       "}\n",
       "\n",
       "#sk-container-id-2 input.sk-toggleable__control:checked~div.sk-toggleable__content {\n",
       "  /* Expand drop-down */\n",
       "  max-height: 200px;\n",
       "  max-width: 100%;\n",
       "  overflow: auto;\n",
       "}\n",
       "\n",
       "#sk-container-id-2 input.sk-toggleable__control:checked~label.sk-toggleable__label-arrow:before {\n",
       "  content: \"▾\";\n",
       "}\n",
       "\n",
       "/* Pipeline/ColumnTransformer-specific style */\n",
       "\n",
       "#sk-container-id-2 div.sk-label input.sk-toggleable__control:checked~label.sk-toggleable__label {\n",
       "  color: var(--sklearn-color-text);\n",
       "  background-color: var(--sklearn-color-unfitted-level-2);\n",
       "}\n",
       "\n",
       "#sk-container-id-2 div.sk-label.fitted input.sk-toggleable__control:checked~label.sk-toggleable__label {\n",
       "  background-color: var(--sklearn-color-fitted-level-2);\n",
       "}\n",
       "\n",
       "/* Estimator-specific style */\n",
       "\n",
       "/* Colorize estimator box */\n",
       "#sk-container-id-2 div.sk-estimator input.sk-toggleable__control:checked~label.sk-toggleable__label {\n",
       "  /* unfitted */\n",
       "  background-color: var(--sklearn-color-unfitted-level-2);\n",
       "}\n",
       "\n",
       "#sk-container-id-2 div.sk-estimator.fitted input.sk-toggleable__control:checked~label.sk-toggleable__label {\n",
       "  /* fitted */\n",
       "  background-color: var(--sklearn-color-fitted-level-2);\n",
       "}\n",
       "\n",
       "#sk-container-id-2 div.sk-label label.sk-toggleable__label,\n",
       "#sk-container-id-2 div.sk-label label {\n",
       "  /* The background is the default theme color */\n",
       "  color: var(--sklearn-color-text-on-default-background);\n",
       "}\n",
       "\n",
       "/* On hover, darken the color of the background */\n",
       "#sk-container-id-2 div.sk-label:hover label.sk-toggleable__label {\n",
       "  color: var(--sklearn-color-text);\n",
       "  background-color: var(--sklearn-color-unfitted-level-2);\n",
       "}\n",
       "\n",
       "/* Label box, darken color on hover, fitted */\n",
       "#sk-container-id-2 div.sk-label.fitted:hover label.sk-toggleable__label.fitted {\n",
       "  color: var(--sklearn-color-text);\n",
       "  background-color: var(--sklearn-color-fitted-level-2);\n",
       "}\n",
       "\n",
       "/* Estimator label */\n",
       "\n",
       "#sk-container-id-2 div.sk-label label {\n",
       "  font-family: monospace;\n",
       "  font-weight: bold;\n",
       "  display: inline-block;\n",
       "  line-height: 1.2em;\n",
       "}\n",
       "\n",
       "#sk-container-id-2 div.sk-label-container {\n",
       "  text-align: center;\n",
       "}\n",
       "\n",
       "/* Estimator-specific */\n",
       "#sk-container-id-2 div.sk-estimator {\n",
       "  font-family: monospace;\n",
       "  border: 1px dotted var(--sklearn-color-border-box);\n",
       "  border-radius: 0.25em;\n",
       "  box-sizing: border-box;\n",
       "  margin-bottom: 0.5em;\n",
       "  /* unfitted */\n",
       "  background-color: var(--sklearn-color-unfitted-level-0);\n",
       "}\n",
       "\n",
       "#sk-container-id-2 div.sk-estimator.fitted {\n",
       "  /* fitted */\n",
       "  background-color: var(--sklearn-color-fitted-level-0);\n",
       "}\n",
       "\n",
       "/* on hover */\n",
       "#sk-container-id-2 div.sk-estimator:hover {\n",
       "  /* unfitted */\n",
       "  background-color: var(--sklearn-color-unfitted-level-2);\n",
       "}\n",
       "\n",
       "#sk-container-id-2 div.sk-estimator.fitted:hover {\n",
       "  /* fitted */\n",
       "  background-color: var(--sklearn-color-fitted-level-2);\n",
       "}\n",
       "\n",
       "/* Specification for estimator info (e.g. \"i\" and \"?\") */\n",
       "\n",
       "/* Common style for \"i\" and \"?\" */\n",
       "\n",
       ".sk-estimator-doc-link,\n",
       "a:link.sk-estimator-doc-link,\n",
       "a:visited.sk-estimator-doc-link {\n",
       "  float: right;\n",
       "  font-size: smaller;\n",
       "  line-height: 1em;\n",
       "  font-family: monospace;\n",
       "  background-color: var(--sklearn-color-background);\n",
       "  border-radius: 1em;\n",
       "  height: 1em;\n",
       "  width: 1em;\n",
       "  text-decoration: none !important;\n",
       "  margin-left: 0.5em;\n",
       "  text-align: center;\n",
       "  /* unfitted */\n",
       "  border: var(--sklearn-color-unfitted-level-1) 1pt solid;\n",
       "  color: var(--sklearn-color-unfitted-level-1);\n",
       "}\n",
       "\n",
       ".sk-estimator-doc-link.fitted,\n",
       "a:link.sk-estimator-doc-link.fitted,\n",
       "a:visited.sk-estimator-doc-link.fitted {\n",
       "  /* fitted */\n",
       "  border: var(--sklearn-color-fitted-level-1) 1pt solid;\n",
       "  color: var(--sklearn-color-fitted-level-1);\n",
       "}\n",
       "\n",
       "/* On hover */\n",
       "div.sk-estimator:hover .sk-estimator-doc-link:hover,\n",
       ".sk-estimator-doc-link:hover,\n",
       "div.sk-label-container:hover .sk-estimator-doc-link:hover,\n",
       ".sk-estimator-doc-link:hover {\n",
       "  /* unfitted */\n",
       "  background-color: var(--sklearn-color-unfitted-level-3);\n",
       "  color: var(--sklearn-color-background);\n",
       "  text-decoration: none;\n",
       "}\n",
       "\n",
       "div.sk-estimator.fitted:hover .sk-estimator-doc-link.fitted:hover,\n",
       ".sk-estimator-doc-link.fitted:hover,\n",
       "div.sk-label-container:hover .sk-estimator-doc-link.fitted:hover,\n",
       ".sk-estimator-doc-link.fitted:hover {\n",
       "  /* fitted */\n",
       "  background-color: var(--sklearn-color-fitted-level-3);\n",
       "  color: var(--sklearn-color-background);\n",
       "  text-decoration: none;\n",
       "}\n",
       "\n",
       "/* Span, style for the box shown on hovering the info icon */\n",
       ".sk-estimator-doc-link span {\n",
       "  display: none;\n",
       "  z-index: 9999;\n",
       "  position: relative;\n",
       "  font-weight: normal;\n",
       "  right: .2ex;\n",
       "  padding: .5ex;\n",
       "  margin: .5ex;\n",
       "  width: min-content;\n",
       "  min-width: 20ex;\n",
       "  max-width: 50ex;\n",
       "  color: var(--sklearn-color-text);\n",
       "  box-shadow: 2pt 2pt 4pt #999;\n",
       "  /* unfitted */\n",
       "  background: var(--sklearn-color-unfitted-level-0);\n",
       "  border: .5pt solid var(--sklearn-color-unfitted-level-3);\n",
       "}\n",
       "\n",
       ".sk-estimator-doc-link.fitted span {\n",
       "  /* fitted */\n",
       "  background: var(--sklearn-color-fitted-level-0);\n",
       "  border: var(--sklearn-color-fitted-level-3);\n",
       "}\n",
       "\n",
       ".sk-estimator-doc-link:hover span {\n",
       "  display: block;\n",
       "}\n",
       "\n",
       "/* \"?\"-specific style due to the `<a>` HTML tag */\n",
       "\n",
       "#sk-container-id-2 a.estimator_doc_link {\n",
       "  float: right;\n",
       "  font-size: 1rem;\n",
       "  line-height: 1em;\n",
       "  font-family: monospace;\n",
       "  background-color: var(--sklearn-color-background);\n",
       "  border-radius: 1rem;\n",
       "  height: 1rem;\n",
       "  width: 1rem;\n",
       "  text-decoration: none;\n",
       "  /* unfitted */\n",
       "  color: var(--sklearn-color-unfitted-level-1);\n",
       "  border: var(--sklearn-color-unfitted-level-1) 1pt solid;\n",
       "}\n",
       "\n",
       "#sk-container-id-2 a.estimator_doc_link.fitted {\n",
       "  /* fitted */\n",
       "  border: var(--sklearn-color-fitted-level-1) 1pt solid;\n",
       "  color: var(--sklearn-color-fitted-level-1);\n",
       "}\n",
       "\n",
       "/* On hover */\n",
       "#sk-container-id-2 a.estimator_doc_link:hover {\n",
       "  /* unfitted */\n",
       "  background-color: var(--sklearn-color-unfitted-level-3);\n",
       "  color: var(--sklearn-color-background);\n",
       "  text-decoration: none;\n",
       "}\n",
       "\n",
       "#sk-container-id-2 a.estimator_doc_link.fitted:hover {\n",
       "  /* fitted */\n",
       "  background-color: var(--sklearn-color-fitted-level-3);\n",
       "}\n",
       "</style><div id=\"sk-container-id-2\" class=\"sk-top-container\"><div class=\"sk-text-repr-fallback\"><pre>GridSearchCV(cv=5,\n",
       "             estimator=&lt;catboost.core.CatBoostClassifier object at 0x0000025229427340&gt;,\n",
       "             n_jobs=-1,\n",
       "             param_grid={&#x27;depth&#x27;: [8, 10], &#x27;iterations&#x27;: [500, 1000],\n",
       "                         &#x27;learning_rate&#x27;: [0.02, 0.05]},\n",
       "             scoring=&#x27;roc_auc&#x27;)</pre><b>In a Jupyter environment, please rerun this cell to show the HTML representation or trust the notebook. <br />On GitHub, the HTML representation is unable to render, please try loading this page with nbviewer.org.</b></div><div class=\"sk-container\" hidden><div class=\"sk-item sk-dashed-wrapped\"><div class=\"sk-label-container\"><div class=\"sk-label fitted sk-toggleable\"><input class=\"sk-toggleable__control sk-hidden--visually\" id=\"sk-estimator-id-4\" type=\"checkbox\" ><label for=\"sk-estimator-id-4\" class=\"sk-toggleable__label fitted sk-toggleable__label-arrow\"><div><div>GridSearchCV</div></div><div><a class=\"sk-estimator-doc-link fitted\" rel=\"noreferrer\" target=\"_blank\" href=\"https://scikit-learn.org/1.6/modules/generated/sklearn.model_selection.GridSearchCV.html\">?<span>Documentation for GridSearchCV</span></a><span class=\"sk-estimator-doc-link fitted\">i<span>Fitted</span></span></div></label><div class=\"sk-toggleable__content fitted\"><pre>GridSearchCV(cv=5,\n",
       "             estimator=&lt;catboost.core.CatBoostClassifier object at 0x0000025229427340&gt;,\n",
       "             n_jobs=-1,\n",
       "             param_grid={&#x27;depth&#x27;: [8, 10], &#x27;iterations&#x27;: [500, 1000],\n",
       "                         &#x27;learning_rate&#x27;: [0.02, 0.05]},\n",
       "             scoring=&#x27;roc_auc&#x27;)</pre></div> </div></div><div class=\"sk-parallel\"><div class=\"sk-parallel-item\"><div class=\"sk-item\"><div class=\"sk-label-container\"><div class=\"sk-label fitted sk-toggleable\"><input class=\"sk-toggleable__control sk-hidden--visually\" id=\"sk-estimator-id-5\" type=\"checkbox\" ><label for=\"sk-estimator-id-5\" class=\"sk-toggleable__label fitted sk-toggleable__label-arrow\"><div><div>best_estimator_: CatBoostClassifier</div></div></label><div class=\"sk-toggleable__content fitted\"><pre>&lt;catboost.core.CatBoostClassifier object at 0x000002522A79ADF0&gt;</pre></div> </div></div><div class=\"sk-serial\"><div class=\"sk-item\"><div class=\"sk-estimator fitted sk-toggleable\"><input class=\"sk-toggleable__control sk-hidden--visually\" id=\"sk-estimator-id-6\" type=\"checkbox\" ><label for=\"sk-estimator-id-6\" class=\"sk-toggleable__label fitted sk-toggleable__label-arrow\"><div><div>CatBoostClassifier</div></div></label><div class=\"sk-toggleable__content fitted\"><pre>&lt;catboost.core.CatBoostClassifier object at 0x000002522A79ADF0&gt;</pre></div> </div></div></div></div></div></div></div></div></div>"
      ],
      "text/plain": [
       "GridSearchCV(cv=5,\n",
       "             estimator=<catboost.core.CatBoostClassifier object at 0x0000025229427340>,\n",
       "             n_jobs=-1,\n",
       "             param_grid={'depth': [8, 10], 'iterations': [500, 1000],\n",
       "                         'learning_rate': [0.02, 0.05]},\n",
       "             scoring='roc_auc')"
      ]
     },
     "execution_count": 109,
     "metadata": {},
     "output_type": "execute_result"
    }
   ],
   "source": [
    "# Запустим поиск гиперпараметров\n",
    "%time cb_gs.fit(X_train_prep, y_train)"
   ]
  },
  {
   "cell_type": "code",
   "execution_count": 110,
   "id": "254fb8e0",
   "metadata": {},
   "outputs": [
    {
     "name": "stdout",
     "output_type": "stream",
     "text": [
      "Лучшие гиперпараметры {'depth': 8, 'iterations': 1000, 'learning_rate': 0.02}\n",
      "Лучшая метрика по кросс-вадидации 0.75749169587834\n"
     ]
    }
   ],
   "source": [
    "print(\"Лучшие гиперпараметры\", cb_gs.best_params_)\n",
    "print(\"Лучшая метрика по кросс-вадидации\", cb_gs.best_score_)"
   ]
  },
  {
   "cell_type": "markdown",
   "id": "04de9032",
   "metadata": {},
   "source": [
    "#### Проверка качества предсказания лучшей модели на тестовой выборке"
   ]
  },
  {
   "cell_type": "code",
   "execution_count": 111,
   "id": "4e59f5ac",
   "metadata": {},
   "outputs": [
    {
     "name": "stdout",
     "output_type": "stream",
     "text": [
      "Wall time: 40.4 s\n"
     ]
    },
    {
     "data": {
      "text/plain": [
       "<catboost.core.CatBoostClassifier at 0x2522a79ab50>"
      ]
     },
     "execution_count": 111,
     "metadata": {},
     "output_type": "execute_result"
    }
   ],
   "source": [
    "model = CatBoostClassifier(**cb_gs.best_params_, random_state=RANDOM_STATE, verbose=False)\n",
    "%time model.fit(X_train_prep, y_train)"
   ]
  },
  {
   "cell_type": "code",
   "execution_count": 112,
   "id": "c9e6254a",
   "metadata": {},
   "outputs": [
    {
     "name": "stdout",
     "output_type": "stream",
     "text": [
      "Метрика ROC-AUC на тестовой выборке: 0.7132560434232555\n"
     ]
    }
   ],
   "source": [
    "y_test_pred = model.predict_proba(X_test_prep)[:,1]\n",
    "print(f'Метрика ROC-AUC на тестовой выборке: {roc_auc_score(y_test.to_list(), y_test_pred)}')"
   ]
  },
  {
   "cell_type": "markdown",
   "id": "ab3d4b34",
   "metadata": {},
   "source": [
    "### Анализ важности признаков"
   ]
  },
  {
   "cell_type": "markdown",
   "id": "8c1bfef2",
   "metadata": {},
   "source": [
    "#### Оценим важность признаков для лучшей модели"
   ]
  },
  {
   "cell_type": "code",
   "execution_count": 113,
   "id": "1f412b8d",
   "metadata": {},
   "outputs": [],
   "source": [
    "feature_importance = model.get_feature_importance()"
   ]
  },
  {
   "cell_type": "code",
   "execution_count": 114,
   "id": "18b7f4eb",
   "metadata": {},
   "outputs": [],
   "source": [
    "df_feat = pd.DataFrame([X.columns, feature_importance]).T.rename(columns={0: 'feature', 1: 'importance'})"
   ]
  },
  {
   "cell_type": "code",
   "execution_count": 115,
   "id": "941ae410",
   "metadata": {},
   "outputs": [
    {
     "data": {
      "image/png": "[encoded data removed]",
      "text/plain": [
       "<Figure size 700x500 with 1 Axes>"
      ]
     },
     "metadata": {},
     "output_type": "display_data"
    }
   ],
   "source": [
    "plt.figure(figsize=(7, 5))\n",
    "sns.barplot(data=df_feat.sort_values(by='importance', ascending=False).head(10), x='importance', y='feature')\n",
    "plt.xlabel('Значение важности признака')\n",
    "plt.ylabel('Признак')\n",
    "plt.title('ТОП-10 важных признаков')\n",
    "plt.show()"
   ]
  },
  {
   "cell_type": "markdown",
   "id": "db8f6512",
   "metadata": {},
   "source": [
    "Наиболее важными признаками являются click (клик на рекламное сообщение), num_days (количество дней прошедших после покупки), open (открыто рекламное сообщение), send (отправлено рекламное сообщение) и price (цена купленного товара)"
   ]
  },
  {
   "cell_type": "markdown",
   "id": "fee20924",
   "metadata": {},
   "source": [
    "#### Оценим и построим важность признаков с помощью метода SHAP"
   ]
  },
  {
   "cell_type": "code",
   "execution_count": 116,
   "id": "01be74bd",
   "metadata": {},
   "outputs": [],
   "source": [
    "explainer = shap.TreeExplainer(model)\n",
    "shap_values = explainer(X_train_prep)\n",
    "shap_values.feature_names=X.columns"
   ]
  },
  {
   "cell_type": "code",
   "execution_count": 117,
   "id": "b317a6c9",
   "metadata": {},
   "outputs": [
    {
     "data": {
      "image/png": "[encoded data removed]",
      "text/plain": [
       "<Figure size 800x550 with 2 Axes>"
      ]
     },
     "metadata": {},
     "output_type": "display_data"
    }
   ],
   "source": [
    "shap.plots.beeswarm(shap_values)"
   ]
  },
  {
   "cell_type": "markdown",
   "id": "8a026684",
   "metadata": {},
   "source": [
    "Чем больше количество кликов на рекламные сообщения (или открытий рекламных сообщений), тем больше вероятность покупки в течение 90 дней. Если клиент не кликает на рекламные сообщения (или не открывает рекламные сообщения), то модель уверенее предсказывает, что клиент не будет совершать покупки в течение 90 дней.\n",
    "\n",
    "Чем больше прошло количество дней после последней покупки клиентом, тем больше вероятность покупки в течение 90 дней. Чем меньше дней прошло с даты последней покупки, тем модель уверенее предсказывает, что клиент не будет совершать покупки в течение 90 дней.\n",
    "\n",
    "Чем больше мобильных уведомлений, тем больше вероятность покупки в течение 90 дней"
   ]
  },
  {
   "cell_type": "markdown",
   "id": "29e7003f",
   "metadata": {},
   "source": [
    "**Общий вывод**\n",
    "\n",
    "Для достижения цели проекта было выполнено: \n",
    "- загрузили данные в датафреймы. Данные соответствуют описанию задачи, в данных есть целевой признак (клиент совершил покупку в целевом периоде);\n",
    "- провели предварительную обработку данных. Удалили дубликаты и разделили category_ids на подкатегории;\n",
    "- провели исследовательский анализ данных. В наборе данных есть дисбаланс классов. Клиентов, которые совершили покупки в течение 90 дней, значительно меньше, чем клиентов, которые не совершили покупки. По результатам корреляционного анализа была выявлена мультиколлинеарность между подкатегориями товара;\n",
    "- провели объединение датафреймов, выбрали и подготовили данные для обучения моделей\n",
    "- провели обучение моделей RandomForest и CatBoost с подборкой гиперпараметров для предсказания целевого признака – клиент совершил покупку в целевом периоде;\n",
    "- провели анализ моделей сравнив их качество предсказания по метрике ROC_AUC;\n",
    "- у модели CatBoost лучше качество предсказания по кросс-валидации, чем у модели RandomForest. Проверили качества предсказания лучшей модели (CatBoost) на тестовой выборке. Метрика roc_auc получилась равной 0.71\n",
    "- провели анализ важности признаков. Вероятность покупки в течение 90 дней выше, если больше количество кликов на рекламные сообщения (или открытий рекламных сообщений) и больше прошло количество дней после последней покупки клиентом. Кроме того, больше вероятность покупки если клиенту отправлены рекламные сообщения через мобильные уведомления, а не по электронной почте."
   ]
  },
  {
   "cell_type": "code",
   "execution_count": null,
   "id": "f65cae33",
   "metadata": {},
   "outputs": [],
   "source": []
  }
 ],
 "metadata": {
  "kernelspec": {
   "display_name": "Python 3 (ipykernel)",
   "language": "python",
   "name": "python3"
  },
  "language_info": {
   "codemirror_mode": {
    "name": "ipython",
    "version": 3
   },
   "file_extension": ".py",
   "mimetype": "text/x-python",
   "name": "python",
   "nbconvert_exporter": "python",
   "pygments_lexer": "ipython3",
   "version": "3.9.13"
  }
 },
 "nbformat": 4,
 "nbformat_minor": 5
}
